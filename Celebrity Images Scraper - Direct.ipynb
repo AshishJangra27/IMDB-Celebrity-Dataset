{
 "cells": [
  {
   "cell_type": "code",
   "execution_count": 34,
   "id": "4e54b4eb",
   "metadata": {
    "scrolled": true
   },
   "outputs": [
    {
     "data": {
      "text/html": [
       "<div>\n",
       "<style scoped>\n",
       "    .dataframe tbody tr th:only-of-type {\n",
       "        vertical-align: middle;\n",
       "    }\n",
       "\n",
       "    .dataframe tbody tr th {\n",
       "        vertical-align: top;\n",
       "    }\n",
       "\n",
       "    .dataframe thead th {\n",
       "        text-align: right;\n",
       "    }\n",
       "</style>\n",
       "<table border=\"1\" class=\"dataframe\">\n",
       "  <thead>\n",
       "    <tr style=\"text-align: right;\">\n",
       "      <th></th>\n",
       "      <th>id</th>\n",
       "      <th>name</th>\n",
       "      <th>profession</th>\n",
       "      <th>known_for_id</th>\n",
       "      <th>known_for</th>\n",
       "      <th>img_link</th>\n",
       "    </tr>\n",
       "  </thead>\n",
       "  <tbody>\n",
       "    <tr>\n",
       "      <th>0</th>\n",
       "      <td>nm0002337</td>\n",
       "      <td>Roger Christian</td>\n",
       "      <td>Set Decorator</td>\n",
       "      <td>tt0076759</td>\n",
       "      <td>Star Wars</td>\n",
       "      <td>https://m.media-amazon.com/images/M/MV5BMTYwMD...</td>\n",
       "    </tr>\n",
       "    <tr>\n",
       "      <th>1</th>\n",
       "      <td>nm0089193</td>\n",
       "      <td>Leslie Bloom</td>\n",
       "      <td>Set Decorator</td>\n",
       "      <td>tt0093818</td>\n",
       "      <td>Radio Days</td>\n",
       "      <td>https://m.media-amazon.com/images/S/sash/9FayP...</td>\n",
       "    </tr>\n",
       "    <tr>\n",
       "      <th>2</th>\n",
       "      <td>nm0816542</td>\n",
       "      <td>Victoria Spader</td>\n",
       "      <td>Set Decorator</td>\n",
       "      <td>tt0098724</td>\n",
       "      <td>Sex, Lies, and Videotape</td>\n",
       "      <td>https://m.media-amazon.com/images/S/sash/9FayP...</td>\n",
       "    </tr>\n",
       "    <tr>\n",
       "      <th>3</th>\n",
       "      <td>nm3914730</td>\n",
       "      <td>Gabrielle Rosenberg</td>\n",
       "      <td>Set Decorator</td>\n",
       "      <td>tt15038118</td>\n",
       "      <td>Blue's Big City Adventure</td>\n",
       "      <td>https://m.media-amazon.com/images/M/MV5BNGM0MT...</td>\n",
       "    </tr>\n",
       "    <tr>\n",
       "      <th>4</th>\n",
       "      <td>nm0896580</td>\n",
       "      <td>Shane Vieau</td>\n",
       "      <td>Set Decorator</td>\n",
       "      <td>tt7740496</td>\n",
       "      <td>Nightmare Alley</td>\n",
       "      <td>https://m.media-amazon.com/images/M/MV5BMTc4N2...</td>\n",
       "    </tr>\n",
       "  </tbody>\n",
       "</table>\n",
       "</div>"
      ],
      "text/plain": [
       "          id                 name     profession known_for_id  \\\n",
       "0  nm0002337      Roger Christian  Set Decorator    tt0076759   \n",
       "1  nm0089193         Leslie Bloom  Set Decorator    tt0093818   \n",
       "2  nm0816542      Victoria Spader  Set Decorator    tt0098724   \n",
       "3  nm3914730  Gabrielle Rosenberg  Set Decorator   tt15038118   \n",
       "4  nm0896580          Shane Vieau  Set Decorator    tt7740496   \n",
       "\n",
       "                   known_for  \\\n",
       "0                  Star Wars   \n",
       "1                 Radio Days   \n",
       "2   Sex, Lies, and Videotape   \n",
       "3  Blue's Big City Adventure   \n",
       "4            Nightmare Alley   \n",
       "\n",
       "                                            img_link  \n",
       "0  https://m.media-amazon.com/images/M/MV5BMTYwMD...  \n",
       "1  https://m.media-amazon.com/images/S/sash/9FayP...  \n",
       "2  https://m.media-amazon.com/images/S/sash/9FayP...  \n",
       "3  https://m.media-amazon.com/images/M/MV5BNGM0MT...  \n",
       "4  https://m.media-amazon.com/images/M/MV5BMTc4N2...  "
      ]
     },
     "execution_count": 34,
     "metadata": {},
     "output_type": "execute_result"
    }
   ],
   "source": [
    "import requests\n",
    "import pandas as pd\n",
    "from tqdm import tqdm\n",
    "\n",
    "df = pd.read_csv('celebs.csv')\n",
    "df.head()"
   ]
  },
  {
   "cell_type": "markdown",
   "id": "984095b8",
   "metadata": {},
   "source": [
    "### 1. EDA on Images Link"
   ]
  },
  {
   "cell_type": "code",
   "execution_count": 35,
   "id": "8d4755b1",
   "metadata": {},
   "outputs": [
    {
     "data": {
      "text/plain": [
       "count                                                 98256\n",
       "unique                                                83664\n",
       "top       https://m.media-amazon.com/images/S/sash/9FayP...\n",
       "freq                                                  14590\n",
       "Name: img_link, dtype: object"
      ]
     },
     "execution_count": 35,
     "metadata": {},
     "output_type": "execute_result"
    }
   ],
   "source": [
    "df['img_link'].describe()"
   ]
  },
  {
   "cell_type": "code",
   "execution_count": 36,
   "id": "ea4d3133",
   "metadata": {},
   "outputs": [
    {
     "data": {
      "text/plain": [
       "'https://m.media-amazon.com/images/S/sash/9FayPGLPcrscMjU.png'"
      ]
     },
     "execution_count": 36,
     "metadata": {},
     "output_type": "execute_result"
    }
   ],
   "source": [
    "'https://m.media-amazon.com/images/S/sash/9FayPGLPcrscMjU.png'"
   ]
  },
  {
   "cell_type": "markdown",
   "id": "69a261af",
   "metadata": {},
   "source": [
    "### 2. Removing Problematic Link"
   ]
  },
  {
   "cell_type": "code",
   "execution_count": 37,
   "id": "cf2216a6",
   "metadata": {},
   "outputs": [],
   "source": [
    "df = df[df['img_link'] != 'https://m.media-amazon.com/images/S/sash/9FayPGLPcrscMjU.png']"
   ]
  },
  {
   "cell_type": "markdown",
   "id": "84937cb0",
   "metadata": {},
   "source": [
    "### 3. Downloading the Images"
   ]
  },
  {
   "cell_type": "code",
   "execution_count": 40,
   "id": "00ab6280",
   "metadata": {},
   "outputs": [
    {
     "name": "stderr",
     "output_type": "stream",
     "text": [
      "100%|█████████████████████████████████████████████| 2/2 [00:00<00:00, 15.63it/s]\n"
     ]
    }
   ],
   "source": [
    "img_paths = []\n",
    "\n",
    "for i in tqdm(df.values):\n",
    "    \n",
    "    link = i[-1]\n",
    "    img_path = 'Images/' + i[0] + '.jpg'\n",
    "    \n",
    "    res = requests.get(link)\n",
    "    \n",
    "    fd = open(img_path, 'wb')\n",
    "    fd.write(res.content)\n",
    "    fd.close()\n",
    "    \n",
    "    img_paths.append(img_path)"
   ]
  }
 ],
 "metadata": {
  "kernelspec": {
   "display_name": "Python 3 (ipykernel)",
   "language": "python",
   "name": "python3"
  },
  "language_info": {
   "codemirror_mode": {
    "name": "ipython",
    "version": 3
   },
   "file_extension": ".py",
   "mimetype": "text/x-python",
   "name": "python",
   "nbconvert_exporter": "python",
   "pygments_lexer": "ipython3",
   "version": "3.9.7"
  }
 },
 "nbformat": 4,
 "nbformat_minor": 5
}
