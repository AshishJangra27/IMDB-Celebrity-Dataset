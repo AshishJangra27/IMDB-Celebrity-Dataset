{
 "cells": [
  {
   "cell_type": "code",
   "execution_count": 173,
   "id": "96294b0c",
   "metadata": {},
   "outputs": [],
   "source": [
    "import requests\n",
    "from bs4 import BeautifulSoup\n",
    "\n",
    "link = 'https://www.imdb.com/name/nm0000129/'\n",
    "\n",
    "soup = BeautifulSoup(requests.get(link).content, 'html.parser')"
   ]
  },
  {
   "cell_type": "markdown",
   "id": "ea963b83",
   "metadata": {},
   "source": [
    "### 1. Scraping Basic Details"
   ]
  },
  {
   "cell_type": "code",
   "execution_count": 174,
   "id": "275da0c0",
   "metadata": {},
   "outputs": [],
   "source": [
    "name = soup.find('div', class_ = 'name-overview-widget').find_all('tr')[0].find('h1').find('span').text\n",
    "\n",
    "job_info = []\n",
    "\n",
    "for _ in soup.find('div', class_ = 'name-overview-widget').find_all('tr')[0].find('div', id = 'name-job-categories').find_all('a'):\n",
    "    job_info.append(_.text.strip())\n",
    "    \n",
    "job_info = ','.join(job_info)\n",
    "\n",
    "img_link = soup.find('img', id = 'name-poster').get('src')\n",
    "\n",
    "\n",
    "date_of_birth  = soup.find('div', id = 'name-born-info').find('time').get('datetime')\n",
    "place_of_birth = soup.find('div', id = 'name-born-info').find_all('a')[-1].text"
   ]
  },
  {
   "cell_type": "markdown",
   "id": "918192b2",
   "metadata": {},
   "source": [
    "### 2. Displaying Basic Details"
   ]
  },
  {
   "cell_type": "code",
   "execution_count": 175,
   "id": "55c7adab",
   "metadata": {
    "scrolled": true
   },
   "outputs": [
    {
     "name": "stdout",
     "output_type": "stream",
     "text": [
      "Name           :  Tom Cruise\n",
      "Job Info       :  Actor,Producer,Director\n",
      "Date of Birth  :  1962-7-3\n",
      "Place of Birth :  Syracuse, New York, USA\n",
      "\n",
      "\n",
      "Image Link     :  https://m.media-amazon.com/images/M/MV5BYTFlOTdjMjgtNmY0ZC00MDgxLThjNmEtZGIxZTQyZDdkMTRjXkEyXkFqcGdeQXVyMTkxNjUyNQ@@._V1_UY317_CR10,0,214,317_AL__QL50.jpg\n"
     ]
    }
   ],
   "source": [
    "print(\"Name           : \", name)\n",
    "print(\"Job Info       : \", job_info)\n",
    "print(\"Date of Birth  : \", date_of_birth)\n",
    "print(\"Place of Birth : \", place_of_birth)\n",
    "print('\\n')\n",
    "print(\"Image Link     : \", img_link)"
   ]
  },
  {
   "cell_type": "markdown",
   "id": "aad65124",
   "metadata": {},
   "source": [
    "### 3. Scraping Acheivement Tags"
   ]
  },
  {
   "cell_type": "code",
   "execution_count": 176,
   "id": "2b77496b",
   "metadata": {},
   "outputs": [
    {
     "name": "stdout",
     "output_type": "stream",
     "text": [
      "['#actor', '#producer', '#director', '#soundtrack', '#writer', '#stunts', '#miscellaneous', '#thanks', '#self', '#archive_footage']\n"
     ]
    }
   ],
   "source": [
    "achievements = [_.get('href') for _ in soup.find('div' , id = 'jumpto').find_all('a')]\n",
    "\n",
    "print(achievements)"
   ]
  },
  {
   "cell_type": "markdown",
   "id": "def99931",
   "metadata": {},
   "source": [
    "### 4. Sraping Acheivements"
   ]
  },
  {
   "cell_type": "code",
   "execution_count": 177,
   "id": "8ad7b930",
   "metadata": {
    "scrolled": true
   },
   "outputs": [
    {
     "name": "stdout",
     "output_type": "stream",
     "text": [
      "['Actor', 'Producer', 'Director', 'Soundtrack', 'Writer', 'Stunts', 'Additional Crew', 'Thanks', 'Self', 'Archive footage']\n"
     ]
    }
   ],
   "source": [
    "acheivements = [i.text.split('\\n')[-2].split('(')[0].strip() for i in soup.find('div', id = 'filmography').find_all('div', class_ = 'head')]\n",
    "\n",
    "print(acheivements)"
   ]
  },
  {
   "cell_type": "markdown",
   "id": "1608cb11",
   "metadata": {},
   "source": [
    "### 5. Saving All the data in a Dictionary"
   ]
  },
  {
   "cell_type": "code",
   "execution_count": 178,
   "id": "c16569a5",
   "metadata": {},
   "outputs": [],
   "source": [
    "ref = 0\n",
    "\n",
    "acheivements_dct = {}\n",
    "\n",
    "for sp in soup.find('div', id = 'filmography').find_all('div', class_ = 'filmo-category-section'):\n",
    "    \n",
    "    t = [j.find('a') for j in sp.find_all('div')]\n",
    "    \n",
    "    temp_dct = {}\n",
    "    \n",
    "    for _ in t:\n",
    "        \n",
    "        try:\n",
    "            temp_dct[_.get('href').split('/')[-2]] =  _.text\n",
    "        except:\n",
    "            pass\n",
    "        \n",
    "    acheivements_dct[acheivements[ref]] = temp_dct\n",
    "    ref += 1"
   ]
  },
  {
   "cell_type": "markdown",
   "id": "673b9bac",
   "metadata": {},
   "source": [
    "### 6. Displaying Acheivements"
   ]
  },
  {
   "cell_type": "code",
   "execution_count": 182,
   "id": "7bcf5d65",
   "metadata": {},
   "outputs": [
    {
     "name": "stdout",
     "output_type": "stream",
     "text": [
      "Key:  Actor\n",
      "{'tt5617712': 'Live Die Repeat and Repeat', 'tt15073568': 'Untitled Tom Cruise/SpaceX Project', 'tt9603208': 'Mission: Impossible - Dead Reckoning - Part Two', 'tt9603212': 'Mission: Impossible - Dead Reckoning - Part One', 'tt1745960': 'Top Gun: Maverick', 'tt4912910': 'Mission: Impossible - Fallout', 'tt3532216': 'American Made', 'tt2345759': 'The Mummy', 'tt3393786': 'Jack Reacher: Never Go Back', 'tt2381249': 'Mission: Impossible - Rogue Nation', 'tt1631867': 'Edge of Tomorrow', 'tt1483013': 'Oblivion', 'tt0790724': 'Jack Reacher', 'tt1336608': 'Rock of Ages', 'tt1229238': 'Mission: Impossible - Ghost Protocol', 'tt1013743': 'Knight and Day', 'tt0985699': 'Valkyrie', 'tt0942385': 'Tropic Thunder', 'tt0891527': 'Lions for Lambs', 'tt0317919': 'Mission: Impossible III', 'tt0407304': 'War of the Worlds', 'tt0369339': 'Collateral', 'tt0325710': 'The Last Samurai', 'tt0295178': 'Austin Powers in Goldmember', 'tt0181689': 'Minority Report', 'tt0259711': 'Vanilla Sky', 'tt0120755': 'Mission: Impossible II', 'tt0175880': 'Magnolia', 'tt5094696': 'Aimee Mann: Save Me', 'tt0120663': 'Eyes Wide Shut', 'tt0116695': 'Jerry Maguire', 'tt0117060': 'Mission: Impossible', 'tt0110148': 'Interview with the Vampire: The Vampire Chronicles', 'tt0106918': 'The Firm', 'tt0104257': 'A Few Good Men', 'tt0104231': 'Far and Away', 'tt0099371': 'Days of Thunder', 'tt0096969': 'Born on the Fourth of July', 'tt0095953': 'Rain Man', 'tt0096487': 'Young Guns', 'tt0094889': 'Cocktail', 'tt0090863': 'The Color of Money', 'tt0092099': 'Top Gun', 'tt0089469': 'Legend', 'tt0085154': 'All the Right Moves', 'tt0086200': 'Risky Business', 'tt0086066': 'The Outsiders', 'tt0085868': \"Losin' It\", 'tt0083169': 'Taps', 'tt0082329': 'Endless Love'}\n",
      "\n",
      "\n",
      "\n",
      "Key:  Producer\n",
      "{'tt1123441': 'Luna Park', 'tt15073568': 'Untitled Tom Cruise/SpaceX Project', 'tt9603208': 'Mission: Impossible - Dead Reckoning - Part Two', 'tt9603212': 'Mission: Impossible - Dead Reckoning - Part One', 'tt1745960': 'Top Gun: Maverick', 'tt4912910': 'Mission: Impossible - Fallout', 'tt3393786': 'Jack Reacher: Never Go Back', 'tt2381249': 'Mission: Impossible - Rogue Nation', 'tt0790724': 'Jack Reacher', 'tt1229238': 'Mission: Impossible - Ghost Protocol', 'tt0317919': 'Mission: Impossible III', 'tt0384814': 'Ask the Dust', 'tt0368709': 'Elizabethtown', 'tt0324127': 'Suspect Zero', 'tt0325710': 'The Last Samurai', 'tt0323944': 'Shattered Glass', 'tt0365335': 'Hitting It Hard', 'tt0272207': 'Narc', 'tt0259711': 'Vanilla Sky', 'tt0230600': 'The Others', 'tt0120755': 'Mission: Impossible II', 'tt0119934': 'Without Limits', 'tt0117060': 'Mission: Impossible'}\n",
      "\n",
      "\n",
      "\n",
      "Key:  Director\n",
      "{'tt0105994': 'Fallen Angels', 'tt0576497': 'The Frightening Frammis'}\n",
      "\n",
      "\n",
      "\n",
      "Key:  Soundtrack\n",
      "{'tt3444938': 'The Tonight Show Starring Jimmy Fallon', 'tt4882604': 'Tom Cruise/Dick Cavett/Ashley Monroe', 'tt4416750': 'Welcome to the Basement', 'tt4843876': 'Top Gun', 'tt1336608': 'Rock of Ages', 'tt1381004': 'The Jay Leno Show', 'tt1502665': 'Episode #1.2', 'tt0407304': 'War of the Worlds', 'tt0175880': 'Magnolia', 'tt0092099': 'Top Gun'}\n",
      "\n",
      "\n",
      "\n",
      "Key:  Writer\n",
      "{'tt15073568': 'Untitled Tom Cruise/SpaceX Project', 'tt0099371': 'Days of Thunder'}\n",
      "\n",
      "\n",
      "\n",
      "Key:  Stunts\n",
      "{'tt3532216': 'American Made'}\n",
      "\n",
      "\n",
      "\n",
      "Key:  Additional Crew\n",
      "{'tt1820509': 'Love in San Francisco'}\n",
      "\n",
      "\n",
      "\n",
      "Key:  Thanks\n",
      "{'tt13640382': 'Au Revoir, Chris Hemsworth', 'tt6838460': 'The Game Changer', 'tt8089222': 'How to Live Forever', 'tt2392846': 'Paranormal Movie', 'tt2622100': 'Dead on Arrival', 'tt2416194': 'The Day I Kidnapped Tom Cruise', 'tt2014135': 'Welshy Reviews', 'tt2016789': 'Twin Town', 'tt1322312': 'Going the Distance', 'tt1306954': 'Artists of the Roundtable', 'tt0844286': 'The Brothers Bloom', 'tt1286750': 'Tropic Thunder: Rain of Madness', 'tt0401711': \"Paris, je t'aime\", 'tt0473007': 'Blown', 'tt1432960': 'My Karma', 'tt0395218': 'Narc: Shooting Up', 'tt0348520': \"AFI's 100 Years... 100 Passions: America's Greatest Love Stories\", 'tt0374581': 'Code of Conduct', 'tt0358205': 'That Moment: Magnolia Diary', 'tt1669568': 'Cruise on Kubrick', 'tt1669643': 'Kidman on Kubrick', 'tt1669689': 'Spielberg on Kubrick', 'tt0880664': \"'Rain Man' Featurette\"}\n",
      "\n",
      "\n",
      "\n",
      "Key:  Self\n",
      "{'tt0081857': 'Entertainment Tonight', 'tt21081606': 'Episode #41.241', 'tt20753418': 'Episode #41.223', 'tt20426186': 'Episode #41.221', 'tt20426184': 'Episode #41.220', 'tt20243970': 'Episode #41.214', 'tt4280606': 'The Late Late Show with James Corden', 'tt20601100': 'Rainn Wilson/Adria Arjona/Mark Owen', 'tt19868982': 'Kaley Cuoco/Glen Powell/Bloc Party', 'tt16342248': '1000th Episode: Mariah Carey/BTS', 'tt8730788': 'Debra Messing/Nick Offerman/Elon Gold', 'tt8730776': 'Tom Cruise/Angela Bassett/Kacey Musgraves', 'tt18376432': '2022 MTV Movie & TV Awards', 'tt0167515': 'Access Hollywood', 'tt20753328': 'Episode #26.227', 'tt19874480': 'Episode #26.202', 'tt19874478': 'Episode #26.201', 'tt7350806': 'Episode #22.8', 'tt6964824': 'Episode #21.237', 'tt21001812': \"James Corden's Top Gun Training with Tom Cruise\", 'tt1973047': 'Dish Nation', 'tt20420568': 'Episode #10.190', 'tt20231924': 'Episode #10.182', 'tt8728892': 'Episode #6.231', 'tt14857030': 'Zervakis & Opdenhövel. Live.', 'tt20564698': 'S2E16', 'tt20769766': \"Tom Cruise Terrifies James in 'Top Gun' Fighter Jet!\", 'tt0247094': 'Extra', 'tt20243420': 'Episode #28.219', 'tt19872908': 'Episode #28.208', 'tt19872904': 'Episode #28.206', 'tt13722086': 'Episode #27.100', 'tt12251582': 'Episode #27.5', 'tt19783954': \"The Queen's Platinum Jubilee Celebration\", 'tt12926306': 'The Real Housewives of Jersey', 'tt16673984': \"Bite Me, I'll Bite Back\", 'tt0924651': 'The Graham Norton Show', 'tt14472502': 'Tom Cruise/Jennifer Connelly/Miles Teller/Felicity Jones/Wunmi Mosaku/John Bishop/Years & Years', 'tt7928300': 'Tom Cruise/Rebecca Ferguson/Henry Cavill/Simon Pegg/Paloma Faith', 'tt6957884': 'Tom Cruise/Annabelle Wallis/Zac Efron/Beth Ditto', 'tt6179434': 'Tom Cruise/Jude Law/Catherine Tate/Cobie Smulders/Kings of Leon', 'tt3766270': 'Tom Cruise/Emily Blunt/Charlize Theron/Seth MacFarlane/Coldplay', 'tt12625096': 'Premios Goya 35 edición', 'tt8638066': 'Hollywood Insider', 'tt14893184': 'Cowboys and Samurai - A Study Of Genre - An In-Depth Analysis', 'tt14892660': 'War Movies Not From USA: A Perspective Outside of Hollywood', 'tt13759312': \"The 8 Paul Thomas Anderson Movies, Ranked - 'Boogie Nights', 'There Will Be Blood' & More\", 'tt13759286': 'EVOLUTION: Every Meryl Streep Role From 1977 to 2021, All Performances Exceptionally Poignant', 'tt13682802': 'Oscar Snubs: The Top 10 Actors Ignored By Oscars for Best Actor & Best Actress Awards', 'tt16220616': 'Success Formula', 'tt13640382': 'Au Revoir, Chris Hemsworth', 'tt0380100': 'Dagsrevyen', 'tt13116930': 'Episode dated 18 September 2020', 'tt13098110': 'Episode dated 15 September 2020', 'tt13044424': 'Episode dated 6 September 2020', 'tt13021242': 'Episode dated 2 September 2020', 'tt13002220': 'Episode dated 30 August 2020', 'tt12277054': 'Carnets Filmés (Liste Complète)', 'tt1637574': 'Conan', 'tt10686616': 'Tom Cruise', 'tt7411308': \"Tom Cruise/Ellen Page/The Cast of 'Impractical Jokers'/Caleb Synan\", 'tt9400136': 'Fallout: The Ultimate Mission', 'tt9400024': \"Behind the Fallout: The Making of 'M:I-6'\", 'tt15223538': 'CarryMinati', 'tt18305268': 'Indian Kid Meets Tom Cruise', 'tt21047006': 'Scene Breakdown', 'tt21047256': 'Mission: Impossible - Fallout: Tom Cruise, Henry Cavill & Christopher McQuarrie', 'tt3444938': 'The Tonight Show Starring Jimmy Fallon', 'tt8700488': 'Tom Cruise/Parker Posey/Jorja Smith', 'tt6952980': 'Tom Cruise/Kate Mara/Bleachers', 'tt4882604': 'Tom Cruise/Dick Cavett/Ashley Monroe', 'tt3743722': 'Tom Cruise/Kendall and Kylie Jenner/Chrissie Hynde', 'tt5139360': 'WGN Morning News', 'tt8740716': 'Episode dated 23 July 2018', 'tt2185037': 'Leonning maen', 'tt8734212': 'Mission: Impossible', 'tt0911896': 'Made in Hollywood', 'tt8751346': 'Mission: Impossible - Fallout: Red Carpet/Blindspotting', 'tt4922824': 'Mission: Impossible - Rogue Nation/Vacation/Unexpected/Smosh: The Movie', 'tt3503424': 'Ok! TV', 'tt8700914': 'Episode #3.227', 'tt7787388': 'Episode #3.88', 'tt6968564': 'Episode #2.198', 'tt6968566': 'Episode #2.197', 'tt8693268': 'Tom Cruise: Mission Possible', 'tt0482346': 'Entertainment Tonight Canada', 'tt8339046': 'Thurs, April 26, 2018', 'tt7813338': 'American Storytellers', 'tt7813364': 'Cruise and Liman: A Conversation', 'tt7813432': 'Flying High', 'tt7813366': 'In the Wings', 'tt7813422': 'Shooting American Made', 'tt7133092': 'Spielberg', 'tt7468026': 'A Universal Legacy: The Monsters', 'tt7464224': 'Cruise & Kurtzman: A Conversation', 'tt7464246': 'Life in Zero-G: Creating the Plane Crash', 'tt7464274': 'Nick Morton: In Search of a Soul', 'tt7464268': 'The Mummy: Becoming Jekyll and Hyde', 'tt7468080': 'The Mummy: Building a Nightmare', 'tt7464270': 'The Mummy: Choreographed Chaos', 'tt7464260': 'The Mummy: Cruise in Action', 'tt7468084': 'The Mummy: Dance of the Dead', 'tt7464252': 'The Mummy: Meet Ahmanet', 'tt7464238': 'The Mummy: Rooted in Reality', 'tt7468064': 'The Mummy: The Global Journey', 'tt0844203': 'The One Show', 'tt7319850': 'Episode dated 23 August 2017', 'tt1699087': 'Episode dated 22 July 2010', 'tt0430836': 'The Insider', 'tt7085174': 'Episode #13.253', 'tt0870872': 'El hormiguero', 'tt6986914': 'Episode dated 8 June 2017', 'tt3162142': 'Miguel Bosé', 'tt2572482': 'Episode dated 13 September 2012', 'tt2134858': 'Episode dated 12 December 2011', 'tt6987466': 'Tom Cruise: Reel Life', 'tt6052530': 'Quotidien', 'tt6953866': 'Episode dated 30 May 2017', 'tt6609248': 'No Quarter Given: Rooftop Battle', 'tt6609150': 'Reacher: An Unexpected Family', 'tt6609258': 'Reacher in Focus: With Tom Cruise and Photographer David James', 'tt6608948': 'Reacher Returns', 'tt6609160': 'Relentless: On Location in Louisiana', 'tt6609230': 'Take Your Revenge First: Lethal Combat', 'tt0298674': 'Lorraine', 'tt10135598': 'Episode dated 5 December 2016', 'tt3644198': 'Good Morning Britain', 'tt6171802': 'Episode dated 21 October 2016', 'tt0320037': 'Jimmy Kimmel Live!', 'tt6126154': 'Tom Cruise/Tilda Swinton/X Ambassadors & Tom Morello/Kenny Loggins', 'tt3767458': 'Tom Cruise/Alyssa Milano/Boyz II Men', 'tt2807238': 'Episode #10.366', 'tt1550098': 'Episode #8.46', 'tt1411387': '4th Annual After the Academy Awards Special', 'tt15441582': 'AFI Life Achievement Award', 'tt5817814': 'A Tribute to John Williams', 'tt0196922': 'A Tribute to Dustin Hoffman', 'tt0268609': 'A Tribute to Kirk Douglas', 'tt5448304': 'The EE British Academy Film Awards', 'tt5335888': 'Mission: Immersible', 'tt5337292': 'Rogue Nation: A Fight at the Opera', 'tt5335806': 'Rogue Nation: Cruise Control', 'tt5335880': 'Rogue Nation: Cruising Altitude', 'tt5337220': 'Rogue Nation: Cut!', 'tt5335812': 'Rogue Nation: Heroes', 'tt5334878': 'Rogue Nation: Lighting the Fuse', 'tt5337188': 'Rogue Nation: Opera-tion Turandot', 'tt5337202': 'Rogue Nation: Practically Impossible', 'tt5337304': 'Rogue Nation: Run-Don', 'tt5335892': 'Rogue Nation: Sand Theft Auto', 'tt5335896': 'Rogue Nation: The Missions Continue', 'tt5337170': 'Rogue Nation: Top Crews', 'tt5337180': 'Rogue Nation: Travel Agents', 'tt5337226': 'Rogue Nation: Variations on a Theme', 'tt5039236': 'Xuxa Meneghel', 'tt5204340': 'Episode #1.1', 'tt0115147': 'The Daily Show', 'tt4844556': 'Tom Cruise', 'tt3732468': 'Tom Cruise', 'tt2812792': 'Tom Cruise', 'tt0552978': 'Tom Cruise', 'tt2787918': 'Weekend Ticket', 'tt4902386': 'Episode #3.125', 'tt2845492': 'Episode #1.6', 'tt4884686': 'Tom Cruise: Show Me the Movies', 'tt4420868': 'The EE British Academy Film Awards', 'tt5255826': \"A World on the 'Edge of Tomorrow'\", 'tt5255782': 'Edge of Tomorrow: Creatures Not of This World', 'tt5255760': 'Edge of Tomorrow: Storming the Beach', 'tt5255770': 'Edge of Tomorrow: Weapons of the Future', 'tt5255728': 'On the Edge with Doug Liman', 'tt1350642': 'Another Sky', 'tt3848818': 'Natsuko Toda', 'tt0185065': 'Fox & Friends', 'tt3752068': 'Episode dated 31 May 2014', 'tt0390699': 'Días de cine', 'tt3767198': 'Episode dated 29 May 2014', 'tt1675327': 'Episode dated 17 June 2010', 'tt1366516': 'Episode dated 29 January 2009', 'tt1338189': 'Episode dated 9 December 1994', 'tt3773590': 'Edge of Tomorrow Special', 'tt0266134': 'E! News', 'tt3758624': 'Episode dated 27 May 2014', 'tt5344514': 'Oblivion: Beautiful Desolation', 'tt5344494': 'Oblivion: Drone Generation', 'tt5344712': 'Oblivion: Shelter Below the Surface', 'tt5344570': 'Oblivion: The Bike of the Future', 'tt5344160': \"Promise of a New World: The Making of 'Oblivion'\", 'tt5344756': 'Time and Space: Inside the Odyssey', 'tt2276210': 'The Hollywood Fast Lane', 'tt3116244': 'Oblivion', 'tt1453928': 'Ôsama no buranchi', 'tt2953556': 'Episode #1.876', 'tt3198202': 'A Tribute to J.J. Abrams', 'tt1147366': 'Tetsuko no heya', 'tt2939402': 'Tom Cruise Part 2', 'tt2939400': 'Tom Cruise Part 1', 'tt0439979': 'Waratte iitomo!', 'tt2911672': 'Tom Cruise', 'tt2903888': 'Episode dated 8 May 2013', 'tt5299168': 'Jack Reacher: When the Man Comes Around', 'tt5299112': 'You Do Not Mess with Jack Reacher: Combat & Weapons', 'tt0103569': 'The Tonight Show with Jay Leno', 'tt2828666': 'Episode #21.132', 'tt2166906': 'Episode #20.156', 'tt1679514': 'Episode #18.77', 'tt1335826': 'Episode #16.210', 'tt1133259': 'Episode #15.190', 'tt2845212': 'Face 2 Face: Tom Cruise/Alex Zane - Oblivion Special', 'tt1231460': 'Late Night with Jimmy Fallon', 'tt2822006': 'Episode dated 12 April 2013', 'tt2567994': 'Episode dated 18 December 2012', 'tt3244244': 'Coffee Break', 'tt13935668': 'Tom Cruise', 'tt4264964': 'Vecherniy Urgant', 'tt4737292': 'Tom Cruise/Olga Kurylenko/Michael Schenker', 'tt0318220': 'HBO First Look', 'tt2834722': 'Oblivion', 'tt0594958': 'War of the Worlds: The Final Invasion', 'tt0594829': 'Collateral', 'tt0594929': 'The Last Samurai: An Epic Journey', 'tt2874618': 'Minority Report: A Vision of the Future', 'tt2576350': 'Celebrity Style Story', 'tt5355278': 'Tom Cruise', 'tt0355143': 'taff', 'tt2612386': 'Episode dated 3 January 2013', 'tt2572140': 'Episode dated 11 December 2012', 'tt10318006': 'Episode dated 26 September 2002', 'tt12479360': 'Carnet de Dubaï Hiver I: Nuits (Carnet Filmé: 7 décembre 2011)', 'tt0930831': 'Gomorron', 'tt2591672': 'Episode dated 24 December 2012', 'tt5123584': 'Rencontres de cinéma', 'tt5169766': 'Episode dated 23 December 2012', 'tt5151282': 'Episode dated 25 January 2009', 'tt0428108': 'Entertainers with Byron Allen', 'tt2582098': 'Episode dated 22 December 2012', 'tt3924266': 'An American Field Recording: Roger Michael Mayer Meets Tom Cruise', 'tt0106053': 'Late Show with David Letterman', 'tt2586794': 'Episode #20.57', 'tt2138513': 'Episode #19.61', 'tt1335342': 'Episode #16.60', 'tt0827351': 'Episode dated 1 June 2006', 'tt0797452': 'Episode dated 2 May 2006', 'tt2518356': 'The American Cinematheque Tribute to Ben Stiller', 'tt3663356': 'CNBC Meets', 'tt3706760': 'CNBC Meets Sherry Lansing', 'tt2185933': 'IC Places Hollywood', 'tt2202458': 'Rock of Ages', 'tt5334854': 'Ghost Protocol: Impossible Missions', 'tt5334862': 'Ghost Protocol: Mission Accepted', 'tt2199495': \"Nickelodeon Kids' Choice Awards 2012\", 'tt2089826': 'The 84th Annual Academy Awards', 'tt2167833': 'National Television Awards', 'tt2244236': 'Mission: Impossible Ghost Protocol Special Feature - Soaring in Dubai', 'tt2049323': 'The Jonathan Ross Show', 'tt5918732': 'Christmas Special - Tom Cruise, Simon Bird, Joe Thomas, James Buckley, Blake Harrison, Jessica Brown Findlay, Michelle Dockery, Laura Carmichael and Il Volo', 'tt1908337': 'The Big Picture', 'tt2145297': 'Mission: Impossible - Ghost Protocol', 'tt2396758': 'A Football Life', 'tt2403872': 'Walter Payton', 'tt1540109': 'Formula 1: BBC Sport', 'tt2039665': 'The Belgian Grand Prix: Qualifying', 'tt0090493': 'The Oprah Winfrey Show', 'tt2083058': \"Oprah's Farewell Spectacular: Part 1\", 'tt1656142': 'Episode dated 14 May 2010', 'tt1589899': \"Tom Cruise's Greatest Hits\", 'tt1231029': 'Episode dated 5 May 2008', 'tt1231028': 'Episode dated 2 May 2008', 'tt2132638': 'Close Up', 'tt2134523': 'Tom Cruise', 'tt5304892': 'Boston Days and Spanish Knights', 'tt5304730': \"Knight and 'Someday' with Black Eyed Peas & Tom Cruise\", 'tt5304908': 'Knight and Day: Scope', 'tt5304900': 'Knight and Day: Story', 'tt5304712': 'Wilder Knights and Crazier Days', 'tt1764072': 'VIP zprávy', 'tt1787029': 'Episode dated 6 October 2010', 'tt1787027': 'Episode dated 4 October 2010', 'tt1783673': 'Episode dated 22 September 2010', 'tt1946864': 'Face 2 Face', 'tt1952134': 'Tom Cruise/Cameron Diaz', 'tt1628033': 'Top Gear', 'tt1695114': \"Volkswagen Touareg Vs Swedish Snowmobilers - Reach 258mph (415 km/h) In The Bugatti Veyron Super Sport - Commemorating Racing Driver Ayrton Senna, Lewis Hamilton Drives Senna's 1988 F1 Racing Car\", 'tt0262152': 'Breakfast', 'tt1695925': 'Episode dated 23 July 2010', 'tt1480165': 'The 7PM Project', 'tt1697338': 'Episode #1.252', 'tt0466518': 'Pânico na TV', 'tt2126013': 'Episode dated 11 July 2010', 'tt0096636': 'Live with Regis and Kathie Lee', 'tt2352188': 'Episode dated 23 June 2010', 'tt1335364': 'Episode dated 17 December 2008', 'tt0633628': 'Episode dated 5 August 2004', 'tt3383986': 'Episode #1.103', 'tt0241090': 'Caiga quien caiga', 'tt1680156': 'Episode dated 20 June 2010', 'tt1665406': '2010 MTV Movie Awards', 'tt1656693': 'National Movie Awards', 'tt5330530': \"The Future According to Steven Spielberg: An Interactive Guide to 'Minority Report'\", 'tt1592191': 'Sex, Drugs & Religion', 'tt1468820': '2009 Golden Globe Awards Red Carpet Special', 'tt1524577': 'Together: The Hendrick Motorsports Story', 'tt1381004': 'The Jay Leno Show', 'tt1502665': 'Episode #1.2', 'tt5500460': '92nd Street Y: Reel Pieces with Tom Cruise and Bryan Singer', 'tt5500506': \"Taking to the Air: Vintage Planes in Flight in 'Valkyrie'\", 'tt5499720': \"The Journey to 'Valkyrie'\", 'tt5500578': 'Valkyrie: Recreating Berlin', 'tt5500488': 'Valkyrie: The African Front Sequence', 'tt1377254': 'Storymakers', 'tt1432716': 'Episode #1.2', 'tt0305109': 'Smap×Smap', 'tt1399487': 'Episode dated 16 March 2009', 'tt0703101': 'Episode dated 27 June 2005', 'tt1438483': 'Shi jie dian ying zhi lv', 'tt1525912': 'Zhui zhong ying tan er zhan ti cai dian ying feng yun zai qi: Zhuan fang Tom Cruise', 'tt0381753': 'Fantástico', 'tt1371880': 'Episode dated 8 February 2009', 'tt1368625': 'Episode dated 1 February 2009', 'tt0445135': 'Quelli che... il calcio', 'tt1366784': 'Episode #16.19', 'tt0111920': 'Cinema 3', 'tt1367533': 'Episode dated 31 January 2009', 'tt0081961': 'Wetten, dass..?', 'tt1363067': 'Wetten, dass..? aus Offenburg', 'tt0786427': 'Wetten, dass..? aus Halle an der Saale', 'tt0299302': 'Friday Night with Jonathan Ross', 'tt1355361': 'Episode #16.1', 'tt1222814': '2009 Golden Globe Awards', 'tt0123366': 'The View', 'tt1352995': 'Episode dated 9 January 2009', 'tt0740605': 'Episode dated 1 July 2005', 'tt0044298': 'Today', 'tt1339990': 'Episode dated 15 December 2008', 'tt0725839': 'Episode dated 27 June 2005', 'tt0092322': 'Biography', 'tt1468928': 'Tom Cruise', 'tt0326459': 'The Barbara Walters Special', 'tt1363209': 'Barbara Walters Presents: The 10 Most Fascinating People of 2008', 'tt0760421': 'The 10 Most Fascinating People of 2005', 'tt1324013': \"The Dream Is Always the Same: The Story of 'Risky Business'\", 'tt1324757': 'Tellement People', 'tt1624789': 'Episode #1.8', 'tt1230105': '2008 MTV Movie Awards', 'tt1303859': 'Golden Age of Knowledge for Eternity', 'tt1149373': 'Bambi Verleihung 2007', 'tt1221131': \"Don't Tell My Booker!!!\", 'tt1135507': 'Lions for Lambs: World Premiere Special', 'tt0493184': 'Exclusiv - Das Star-Magazin', 'tt1054800': 'Episode dated 20 June 2007', 'tt0833875': 'The 79th Annual Academy Awards', 'tt0960905': 'InStyle: Celebrity Weddings', 'tt0913283': 'TRL Italy', 'tt0946707': 'Episode #8.1', 'tt0166442': 'Inside Edition', 'tt0914631': 'Episode dated 7 December 2006', 'tt0997071': 'Inside the IMF', 'tt0997077': 'Mission: Metamorphosis', 'tt0997094': 'Scoring the Mission', 'tt0997108': 'Visualizing the Mission', 'tt5334416': 'M:I-3 Countdown Begins', 'tt5334460': 'M:I-3 Designing the Mission', 'tt5334446': 'M:I-3 Evolution of a Blockbuster', 'tt5334346': 'M:I-3 Launching the Mission', 'tt5334368': 'M:I-3 Moviefone Unscripted: Tom Cruise/JJ Abrams', 'tt5334394': 'M:I-3 the Hunt Is On', 'tt0893495': 'Mission Action: Inside the Action Unit', 'tt0893408': 'The Making of the Mission', 'tt0360248': 'Bl!tz', 'tt0877771': 'Episode dated 8 October 2006', 'tt0840321': 'Forbes Celebrity 100: Who Made Bank?', 'tt0474499': 'Howard Stern on Demand', 'tt0807605': 'Guessing Game', 'tt0803026': 'Legends Ball', 'tt0379623': 'Ellen: The Ellen DeGeneres Show', 'tt0801646': 'Episode #3.158', 'tt0570432': 'Episode #3.83', 'tt13693660': 'Episode #1.66', 'tt0315677': 'HypaSpace', 'tt0801245': 'Episode #5.90', 'tt0780750': 'Episode #5.57', 'tt0324774': 'Diary', 'tt0840502': 'Diary of Tom Cruise and Sway', 'tt0167735': 'Total Request Live', 'tt1532830': 'Episode dated 3 May 2006', 'tt0731756': 'Episode dated 24 June 2005', 'tt0731713': 'Episode dated 5 August 2004', 'tt0731686': 'Episode dated 2 December 2003', 'tt0972908': 'Tribeca Film Festival Presents: Live from the Red Carpet', 'tt0830847': '1 Leicester Square', 'tt0838309': 'Episode #1.5', 'tt0816454': 'Catering Impossible: M:i:III', 'tt5334654': \"Acceptance Speech for BAFTA/LA's Stanley Kubrick Britannia Award for Excellence in Film\", 'tt5334686': \"Acceptance Speech for MTV's Generation Award\", 'tt5334638': 'Excellence in Filmmaking: Cruise', 'tt5334672': 'Generation: Cruise', 'tt5331008': 'Mission: Catching the Train', 'tt5330962': 'Mission: Explosive Exploits', 'tt5330926': 'Mission: Remarkable - 40 Years of Creating the Impossible', 'tt0498756': '2005 BAFTA/LA Cunard Britannia Awards', 'tt0463397': 'Corazón de...', 'tt0545977': 'Episode dated 1 December 2005', 'tt0545964': 'Episode dated 11 November 2005', 'tt0545918': 'Episode dated 14 July 2005', 'tt0492524': \"'War of the Worlds': Production Diaries, East Coast - Exile\", 'tt0492521': \"'War of the Worlds': Characters - The Family Unit\", 'tt0492523': \"'War of the Worlds': Production Diaries, East Coast - Beginning\", 'tt0492525': \"'War of the Worlds': Production Diaries, West Coast - Destruction\", 'tt0492526': \"'War of the Worlds': Production Diaries, West Coast - War\", 'tt0492527': \"'War of the Worlds': Revisiting the Invasion\", 'tt0492602': 'Designing the Enemy: Tripods and Aliens', 'tt0492837': 'We Are Not Alone', 'tt0796237': 'Waging the War of the Worlds: From H. G. Wells to Steven Spielberg', 'tt0475467': 'El Magacine', 'tt0639461': 'Episode dated 1 July 2005', 'tt0472260': 'BET Awards 2005', 'tt0375285': 'Comme au cinéma', 'tt0826874': 'Episode dated 28 June 2005', 'tt2139018': 'Episode dated 9 September 1999', 'tt0261489': 'Rove Live', 'tt0690665': 'Episode #6.21', 'tt1864572': 'War of the Worlds: UK Premiere Special', 'tt0463853': '2005 MTV Movie Awards', 'tt0443419': \"The 10th Annual Critics' Choice Awards\", 'tt0440210': \"City of Night: The Making of 'Collateral'\", 'tt0441613': \"Danger Zone: The Making of 'Top Gun'\", 'tt0088550': 'Larry King Live', 'tt0625156': 'Episode dated 19 November 2004', 'tt0625057': 'Episode dated 28 November 2003', 'tt0433378': 'Genius: A Night for Ray Charles', 'tt0168358': 'Parkinson', 'tt0670017': 'Episode dated 4 September 2004', 'tt0443492': 'E! Entertainment Special: Tom Cruise', 'tt0096680': 'Primetime Live', 'tt0678426': 'Episode dated 9 August 2004', 'tt0426446': 'ESPY Awards', 'tt0415469': '2004 MTV Movie Awards', 'tt0415953': 'MTV Movie Awards 2004 Pre-Show', 'tt0859634': \"Special Delivery: Michael Mann on Making 'Collateral'\", 'tt5308574': \"Edward Zwick: Director's Video Journal\", 'tt2872692': \"Tom Cruise: A Warrior's Journey\", 'tt0357350': '4Pop', 'tt0502861': 'Pääsiäisen leffaspesiaali', 'tt0381851': 'The 76th Annual Academy Awards', 'tt0449465': 'The 2004 IFP/West Independent Spirit Awards', 'tt0395093': 'The 61st Annual Golden Globe Awards', 'tt0169455': 'Inside the Actors Studio', 'tt0611215': 'Episode #10.7', 'tt0220225': 'The Early Show', 'tt0568535': 'Episode dated 3 December 2003', 'tt0421012': 'XMA: Xtreme Martial Arts', 'tt0103396': 'Dateline NBC', 'tt0554789': 'Episode #12.3', 'tt0300776': 'History vs. Hollywood', 'tt0602025': 'The Last Samurai', 'tt0376434': 'Tinseltown TV', 'tt0723906': 'Episode dated 30 August 2003', 'tt0395218': 'Narc: Shooting Up', 'tt0370250': '2003 ABC World Stunt Awards', 'tt1152545': 'Kela on the Karpet', 'tt0401653': \"'Minority Report': The Players\", 'tt0401654': \"'Minority Report': The Story, the Debate\", 'tt0401371': 'Deconstructing Precog Visions', 'tt0493659': 'Final Report', 'tt0493716': \"ILM and 'Minority Report'\", 'tt5329768': \"The Stunts of 'Minority Report'\", 'tt0401372': \"The World of 'Minority Report': An Introduction\", 'tt0347751': 'Back in the U.S.', 'tt0313160': 'The 54th Annual Primetime Emmy Awards', 'tt0790584': 'VH-1 Behind the Movie', 'tt0957434': 'Risky Business', 'tt0407534': 'The Art of Action: Martial Arts in Motion Picture', 'tt0340474': 'Rank', 'tt0682728': '25 Sexiest Movie Moments', 'tt0326844': '25 Toughest Stars', 'tt0115338': \"The Rosie O'Donnell Show\", 'tt0690220': 'Episode dated 22 May 2002', 'tt0690114': 'Episode dated 12 December 2001', 'tt0689842': 'Episode dated 22 May 2000', 'tt0689395': 'Episode dated 18 February 1998', 'tt0689168': 'Episode #1.115', 'tt0365335': 'Hitting It Hard', 'tt0365650': 'Prelude to a Dream', 'tt0360753': 'A Look Inside: The Others', 'tt10793614': 'The Tonight Show with Jay Leno 10th Anniversary', 'tt0290296': 'Space Station 3D', 'tt0313162': '74th Annual Academy Awards', 'tt0302066': '+ de cinéma', 'tt0818265': 'Episode dated 20 March 2002', 'tt0358081': 'Road to the Red Carpet', 'tt0297555': 'Exclusif', 'tt0818365': 'Episode dated 30 January 2002', 'tt0374581': 'Code of Conduct', 'tt0270116': 'Charlie Rose', 'tt2153631': 'Episode dated 3 December 2001', 'tt0297611': 'The Ray Martin Show', 'tt0683247': 'Episode #1.10', 'tt0296503': 'America: A Tribute to Heroes', 'tt0286409': '2001 MTV Movie Awards', 'tt0358780': 'Young Hollywood Awards', 'tt1504283': \"Nickelodeon Kids' Choice Awards\", 'tt0280387': 'The 73rd Annual Academy Awards', 'tt0278736': 'Stanley Kubrick: A Life in Pictures', 'tt1401892': 'The 58th Annual Golden Globe Awards 2001', 'tt0224861': 'The Directors', 'tt0373794': 'The Films of Oliver Stone', 'tt0364984': \"Behind the Mission: The Making of 'M:I-2'\", 'tt5332102': 'M:I-2 Impossible Shots', 'tt5332086': 'M:I-2 Mission Incredible', 'tt0278884': '2000 MTV Movie Awards', 'tt0273110': 'Mission: Improbable', 'tt0343328': '2000 Blockbuster Entertainment Awards', 'tt0266222': 'The 72nd Annual Academy Awards', 'tt0280386': '6th Annual Screen Actors Guild Awards', 'tt1524291': 'Jet 7', 'tt14703112': 'Episode dated 5 February 2000', 'tt0429484': 'The 57th Annual Golden Globe Awards', 'tt1669568': 'Cruise on Kubrick', 'tt10636154': \"The Last Movie: Stanley Kubrick and 'Eyes Wide Shut'\", 'tt0896232': 'Intimate Portrait', 'tt0443549': 'Melissa Etheridge', 'tt0290358': 'Investigative Reports', 'tt0803791': 'Inside Scientology', 'tt0311376': 'Junket Whore', 'tt0773260': 'Bravo Profiles: The Entertainment Business', 'tt0108847': 'The Magic School Bus', 'tt0639555': 'Goes Cellular', 'tt0775473': 'The GQ Men of the Year Awards', 'tt0297693': 'The 69th Annual Academy Awards', 'tt0483221': 'Mundo VIP', 'tt0652765': 'Show nº 46', 'tt0480279': '20 heures le journal', 'tt11019268': 'Episode dated 28 February 1997', 'tt1800384': '54th Golden Globe Awards', 'tt0120986': 'The Maury Povich Show', 'tt6674804': 'Episode dated 17 October 1996', 'tt7310198': 'Episode dated 10 November 1994', 'tt2042756': 'Alta Voltagem', 'tt14773808': 'Episode #1.20', 'tt3279036': '1996 Blockbuster Entertainment Awards', 'tt1800745': '53rd Annual Golden Globe Awards', 'tt0295842': 'The 66th Annual Academy Awards', 'tt1369432': \"The 20th Annual People's Choice Awards\", 'tt0472490': 'Rock the Vote', 'tt0192897': \"Film '72\", 'tt9100212': 'Episode dated 16 September 1993', 'tt8979492': 'Episode #16.4', 'tt0355070': 'CBS This Morning', 'tt1779973': 'Episode dated 25 June 1993', 'tt1369431': \"The 19th Annual People's Choice Awards\", 'tt1800744': 'The 50th Annual Golden Globe Awards', 'tt18226442': 'Talking Night with Allen Hansen', 'tt19372528': 'Episode #1.4', 'tt6624156': 'Repórteres', 'tt13364752': 'Episode dated 22 September 1992', 'tt0282206': 'Time Out: The Truth About HIV, AIDS, and You', 'tt6581590': 'Festival international de Cannes', 'tt12369746': 'Cérémonie de clôture du 45ème festival de Cannes', 'tt2671072': \"The Making of 'Far and Away'\", 'tt1800383': 'The 49th Golden Globe Awards', 'tt16042668': 'CNN Showbiz Today', 'tt1039974': \"MTV's 10th Anniversary Special\", 'tt0266218': '63rd Annual Academy Awards', 'tt2106680': 'The 8th Annual American Cinema Awards', 'tt0055708': 'The Tonight Show Starring Johnny Carson', 'tt0728067': 'Episode #28.286', 'tt13843250': 'Flix Summer Movies', 'tt0312314': '62nd Annual Academy Awards', 'tt1369430': \"The 16th Annual People's Choice Awards\", 'tt1000697': 'The 47th Annual Golden Globe Awards 1990', 'tt2660374': \"The Making of 'Born on the Fourth of July'\", 'tt0353140': '61st Annual Academy Awards', 'tt0880664': \"'Rain Man' Featurette\", 'tt0083441': 'Late Night with David Letterman', 'tt0627922': 'Episode dated 10 August 1988', 'tt6649262': 'Moving Image Salutes Elia Kazan', 'tt5476740': 'Top Gun: Survival Training', 'tt5476676': 'Top Gun: Tom Cruise Interview', 'tt0372654': 'De película', 'tt18273488': 'Un invierno de película', 'tt1167204': 'Northwest Afternoon', 'tt0411010': 'MV3'}\n",
      "\n",
      "\n",
      "\n",
      "Key:  Archive footage\n",
      "{'tt8883458': 'Ray', 'tt0081857': 'Entertainment Tonight', 'tt20722528': 'Episode #41.246', 'tt20859406': 'Episode #41.233', 'tt20722520': 'Episode #41.228', 'tt19881726': 'Episode #41.222', 'tt19881724': 'Episode #41.216', 'tt20229424': \"OneRepublic: I Ain't Worried\", 'tt20116478': 'Lady Gaga: Hold My Hand', 'tt1973047': 'Dish Nation', 'tt19409732': '\"The Batman\" Star Colin Farrell Hides in Plain Sight and', 'tt13630318': 'Episode #9.78', 'tt13034326': 'Larsa Pippen Gets Tagged and Dragged and We Learned', 'tt15250058': 'Superstar', 'tt19408786': 'Patrick Swayze', 'tt18114868': 'Billy Connolly Does...', 'tt18338836': 'Fame', 'tt1740718': 'The Talk', 'tt17348664': 'Paula Abdul/Katie Couric', 'tt4494654': 'Smerconish', 'tt18280628': '02-19-2022', 'tt15054972': 'Movie Night Extravaganza', 'tt19781578': 'Invasion Night Wrap Up!!', 'tt11827352': 'TheQuartering', 'tt16538386': \"We've Gone Too Far! New SJW Ghost Hunting Show Fights The Patriarchy!\", 'tt18094728': 'Johnny vs Amber', 'tt18155812': \"Johnny's Story\", 'tt16273964': \"World's Most Expensive Celeb Break Ups\", 'tt15714428': \"Daniel Day-Lewis - L'héritier\", 'tt11489716': 'Inside Edition Weekend', 'tt15496356': 'Episode #34.5', 'tt13550026': 'Episode #33.14', 'tt11346322': 'Gossip', 'tt15036312': 'Episode #1.4', 'tt15174040': 'Listening to Kenny G', 'tt1259254': 'BBC World News America', 'tt15346498': 'Episode dated 1 September 2021', 'tt0380100': 'Dagsrevyen', 'tt15071194': 'Episode dated 18 July 2021', 'tt8734408': 'Episode dated 11 July 2018', 'tt14731254': 'Val', 'tt14811056': 'Jodie Foster - Hollywood dans la peau', 'tt11612380': 'The Story of Late Night', 'tt14531020': 'Reinventing Late Night', 'tt0826215': 'Robin & Company', 'tt14625722': '05-11-2021', 'tt14164844': '03-03-2021', 'tt0924651': 'The Graham Norton Show', 'tt14487934': 'Compilation 2', 'tt8091626': \"Graham Norton's Good Guest Guide\", 'tt6578528': 'Compilation Show', 'tt3833416': 'Compilation', 'tt3034152': 'Compilation', 'tt0166442': 'Inside Edition', 'tt13631440': 'How to Stop Touching Your Face', 'tt5130058': 'Episode #28.35', 'tt4668620': 'Episode #26.179', 'tt4531452': 'Episode #26.141', 'tt12663404': 'Outkick the Show with Clay Travis', 'tt13670546': 'Episode dated 18 December 2020', 'tt11143300': \"Rising with the Hill's Krystal Ball and Saagar Enjeti\", 'tt13665924': 'Episode dated 18 December 2020', 'tt11958920': 'Sky News with Sarah Hewson', 'tt13641286': 'Episode dated 16 December 2020', 'tt6238614': 'Tucker Carlson Tonight', 'tt13646716': 'Episode dated 16 December 2020', 'tt11428002': 'DDayCobra', 'tt13890696': 'Glorious Tom Cruise RANT From Movie Set Leaks Online', 'tt13177242': 'Tom Cruise: An Eternal Youth', 'tt12759400': 'High Score', 'tt12906440': 'Level Up', 'tt8704802': 'The Last Blockbuster', 'tt8107920': 'Behind Closed Doors', 'tt12630862': 'Top Gun', 'tt3503424': 'Ok! TV', 'tt12502752': 'Episode #7.210', 'tt11477830': 'Episode #5.83', 'tt10488920': 'Episode #4.237', 'tt8761370': 'Episode #3.237', 'tt7408478': 'Episode #3.19', 'tt11427372': \"Hollywood's Stories\", 'tt12272308': 'Mission Scientology for Tom Cruise - The Truth', 'tt11905514': 'Kubrick by Kubrick', 'tt10747262': \"Robert Redford: L'ange blond\", 'tt10468676': 'The Movies', 'tt10473544': 'The Eighties', 'tt10300712': 'The Car Years', 'tt15448234': '1986', 'tt9358228': 'Untouchable', 'tt9140634': 'The Directors', 'tt12886818': 'Stanley Kubrick', 'tt6244192': 'Leah Remini: Scientology and the Aftermath', 'tt9613796': 'Where Is Shelly?', 'tt7707218': 'Ask Me Anything Season 2', 'tt6653338': 'Scientology and Celebrity: The Betrayal of Paul Haggis', 'tt6328726': 'A Leader Emerges', 'tt6286784': 'Disconnection', 'tt5892580': 'Collision Course', 'tt9347806': 'Harrison Ford', 'tt0247094': 'Extra', 'tt8897662': 'Episode #25.12', 'tt8968110': 'Episode #25.8', 'tt8470898': 'Episode #24.240', 'tt7274702': 'Episode #23.302', 'tt7224754': 'Episode #23.295', 'tt0283764': 'Night Flight', 'tt8793906': 'Hard Rock Metal & Video Music Pioneers', 'tt3444938': 'The Tonight Show Starring Jimmy Fallon', 'tt8730682': 'Tom Cruise/Parker Posey/Jorja Smith #2', 'tt8389532': 'Hollywood, No Sex Please!', 'tt8219204': 'Six Sides of Katharine Hepburn', 'tt7808628': \"Hell's Club Part 2. Another Night\", 'tt4666458': 'Talking Pictures', 'tt7809092': 'Barry Norman', 'tt0167515': 'Access Hollywood', 'tt7350798': 'Episode #22.12', 'tt6669162': 'Episode #21.174', 'tt6047518': 'Episode dated 22 September 2016', 'tt0905648': 'Episode dated 20 November 2006', 'tt7294076': 'Diana: The Day Britain Cried', 'tt6851066': 'Filmworker', 'tt6436780': 'Hoy nos toca', 'tt6488064': 'Episode dated 30 January 2017', 'tt0430836': 'The Insider', 'tt6150170': 'Episode #13.36', 'tt4524710': 'Episode dated 19 March 2015', 'tt5971920': 'Cyberwar', 'tt6045710': 'Who Is Anonymous?', 'tt5765770': 'Where Are They Now? The Reunions', 'tt6115778': 'Mythos Geschichte', 'tt6145596': 'Vieler Herren Häuser - Der Palast des Walzerkönigs', 'tt5424442': 'Duels', 'tt5667066': 'Elisabeth II - Lady Diana, Duel Royal', 'tt9253782': 'Blow up', 'tt9310512': 'Top 5 Musical Tom Cruise', 'tt1596363': 'The Big Short', 'tt5111874': 'My Scientology Movie', 'tt4656392': 'Lego Dimensions', 'tt3377996': 'Winning: The Racing Life of Paul Newman', 'tt4487148': \"The Third Annual 'On Cinema' Oscar Special\", 'tt2070564': 'WatchMojo', 'tt4397434': 'Top 10 Dumb Things Said by Celebrities', 'tt4257858': 'Going Clear: Scientology & the Prison of Belief', 'tt0780206': 'Screenwipe', 'tt4307842': '2014 Wipe', 'tt6987380': \"That's Life!! Kilorenzos $mith in Talks...\", 'tt4082992': '2nd Indie Fest of YouTube Videos 2014', 'tt6302686': 'Dr. Kubrick, Or: How I Learned to Stop Worrying & Love Eyes Wide Shut', 'tt0284767': \"The O'Reilly Factor\", 'tt3822992': \"Watters' World\", 'tt2506576': 'The Factor Goes Hollywood', 'tt1173324': 'Episode dated 17 January 2008', 'tt1172408': 'Talk Radio and the Presidential Election', 'tt1168450': 'Episode dated 7 January 2008', 'tt1002838': 'Chelsea Lately', 'tt3723082': 'Episode #8.81', 'tt2155043': \"Shaun Micallef's Mad as Hell\", 'tt3499314': 'Episode #3.4', 'tt2198333': \"America's Book of Secrets\", 'tt3676404': 'Scientology', 'tt3576518': \"The Second Annual 'On Cinema' Oscar Special\", 'tt3481232': 'And the Oscar Goes To...', 'tt0355143': 'taff', 'tt10256788': 'Episode dated 15 November 2013', 'tt2586224': 'Episode dated 21 December 2012', 'tt2523442': 'Episode dated 19 November 2012', 'tt10231168': 'Episode dated 4 June 2003', 'tt1299047': 'Huckabee', 'tt3080272': 'My Solutions to Obamacare', 'tt1270183': 'First Cut', 'tt2990438': 'Scientologists at War', 'tt9815144': 'AOPA Live This Week', 'tt9822810': 'February 28, 2013', 'tt2194326': 'History of the Eagles', 'tt5586002': 'Part II', 'tt1405257': 'Rude Tube', 'tt2354520': 'Totally Mashed', 'tt1308439': 'History', 'tt5334664': 'Rosenkriege - Wenn aus Liebe Hass wird', 'tt0892644': 'Sendung ohne Namen', 'tt5222206': 'Gemütlichkeit', 'tt5221254': 'Freunde? Haben Sie welche?', 'tt5221248': 'Angst vor der Zukunft?', 'tt3984388': 'Close Up', 'tt4416750': 'Welcome to the Basement', 'tt4843876': 'Top Gun', 'tt8674728': 'Tom Cruise Talks About Katie Holmes Divorce', 'tt0103569': 'The Tonight Show with Jay Leno', 'tt2377853': 'Episode #20.139', 'tt1663587': 'Episode #18.63', 'tt0316977': 'Domingão do Faustão', 'tt2286245': 'Episode dated 4 March 2012', 'tt2243299': 'Final Cut: Hölgyeim és uraim', 'tt2085910': 'Room 237', 'tt1231460': 'Late Night with Jimmy Fallon', 'tt2135656': 'Episode dated 20 December 2011', 'tt1957258': 'Jada Pinkett Smith/Simon Pegg/Call of Duty: Modern Warfare 3/Givers', 'tt2091018': 'Prophets of Science Fiction', 'tt2092743': 'Philip K. Dick', 'tt1657302': 'Industrial Light & Magic: Creating the Impossible', 'tt0199257': 'Panorama', 'tt1734866': 'The Secrets of Scientology', 'tt1310809': 'The Gruen Transfer', 'tt1725587': 'Religion', 'tt1628033': 'Top Gear', 'tt1719459': 'The Best Of Top Gear: 2010 No.2', 'tt1608287': 'Richard Roeper & the Movies', 'tt2272583': 'Knight and Day', 'tt0262152': 'Breakfast', 'tt1662790': 'Episode dated 27 May 2010', 'tt1510985': 'Never Sleep Again: The Elm Street Legacy', 'tt1509653': 'Live from Studio Five', 'tt1631060': 'Episode #1.131', 'tt1629851': 'Episode #1.129', 'tt1585054': 'Episode #1.83', 'tt0090493': 'The Oprah Winfrey Show', 'tt1551486': \"Oprah's All-Time Favorite Recipes\", 'tt1418456': 'Eiga no tatsujin 2: End Credits', 'tt1475807': 'First Assistant Director', 'tt3514536': 'Un jour, un destin', 'tt3533388': \"Tom Cruise: Dans le secret d'une secte\", 'tt1723643': \"Los mejores momentos de 'Sé lo que hicisteis'\", 'tt0800968': '20 to 1', 'tt1558878': \"Hollywood's Hot List\", 'tt1527237': 'Pranks & Pranksters', 'tt1297987': 'Sexiest Movie Moments', 'tt0971242': 'Life-Changing Moments', 'tt1344139': 'Plácido y la copla', 'tt0320037': 'Jimmy Kimmel Live!', 'tt1328763': 'Episode #6.155', 'tt1198300': \"World's Dumbest\", 'tt1443268': 'Fans', 'tt1300281': 'Premio Donostia a Meryl Streep', 'tt0815241': 'Religulous', 'tt1266033': 'Strictly Courtroom', 'tt0434707': 'Mornings with Kerri-Anne', 'tt1237464': 'Episode dated 26 May 2008', 'tt1566050': '5 Second Movies', 'tt1779538': 'Rain Man', 'tt0190177': 'A Current Affair', 'tt1202395': 'Episode dated 14 March 2008', 'tt7058736': 'Geoffrey Rush: Golden Globe Acceptance Speech', 'tt1183149': 'Oscar, que empiece el espectáculo', 'tt0317022': 'stern TV', 'tt2707738': 'Episode dated 30 January 2008', 'tt0470679': 'August', 'tt1173723': 'Irak-Afganistán, la guerra llega al cine', 'tt1229751': 'Forbes 20 Under 25: Young, Rich and Famous', 'tt0463399': 'E! True Hollywood Story', 'tt1173201': 'Nicole Kidman', 'tt0933772': \"Kids of Dawson's Creek\", 'tt0567785': 'Brooke Shields', 'tt0461679': 'Jack Nicholson', 'tt0784850': '100 Greatest Teen Stars', 'tt1785691': 'Episode dated 13 December 2007', 'tt0964948': 'Red Eye', 'tt1077916': 'Episode dated 29 July 2007', 'tt1233200': 'Der Geist des Geldes', 'tt0361235': 'Rome Is Burning', 'tt1057778': 'Episode dated 22 June 2007', 'tt0969243': 'Cómo conseguir un papel en Hollywood', 'tt0497150': 'Amor mío', 'tt0942921': 'Lo barato sale caro', 'tt2297922': 'Kig Ind TV', 'tt2468168': 'The Fame Review 2006', 'tt0350384': '106 & Park Top 10 Live', 'tt0935118': 'The Best of 106 and Park 2006 Top Ten Live 06', 'tt0931335': 'The Most Annoying People of 2006', 'tt0945502': \"Overrated in '06\", 'tt0862590': 'La imagen de tu vida', 'tt0904655': 'Episode #1.10', 'tt0872154': 'Premio Donostia a Max Von Sydow', 'tt0816381': 'Hollywood Science', 'tt0971655': 'Spy Gadgets', 'tt0436697': 'The Queen', 'tt0805497': \"Boffo! Tinseltown's Bombs and Blockbusters\", 'tt0437729': 'The Late Late Show with Craig Ferguson', 'tt0801617': 'Episode #2.140', 'tt0207934': 'Getaway', 'tt0826356': 'Seven Wonders of the World', 'tt0498024': 'CMT Insider', 'tt0799034': 'Episode dated 29 April 2006', 'tt0463397': 'Corazón de...', 'tt0545994': 'Episode dated 19 January 2006', 'tt0545966': 'Episode dated 15 November 2005', 'tt0545948': 'Episode dated 6 October 2005', 'tt2112154': \"Fred Roos and the Casting of 'The Outsiders'\", 'tt0222560': 'GMTV', 'tt13544714': 'Episode dated 6 December 2005', 'tt0475467': 'El Magacine', 'tt0639472': 'Episode dated 5 November 2005', 'tt0480953': '80s', 'tt0503872': 'Episode #1.5', 'tt0503869': 'Episode #1.2', 'tt0484153': \"Staying Gold: A Look Back at 'The Outsiders'\", 'tt0470644': 'Cinema mil', 'tt0541450': 'Here', 'tt0541452': 'Episode #1.2', 'tt0541449': 'Episode #1.1', 'tt0092322': 'Biography', 'tt0478965': 'Child Stars II: Growing Up Hollywood', 'tt0968830': \"Ron Howard: Hollywood's Favorite Son\", 'tt0476948': \"What's the Problem? With Anne Robinson\", 'tt0747100': 'Episode #1.3', 'tt0442870': 'Buenafuente', 'tt0533277': 'La guerra de los mundos', 'tt0441716': \"I Love the '90s: Part Deux\", 'tt0486993': \"This Is Scientology: An Overview of the World's Fastest Growing Religion\", 'tt0435578': \"Retrosexual: The 80's\", 'tt0439357': 'Deborah Norville Tonight', 'tt11241934': 'Episode dated 16 June 2004', 'tt0403738': 'Celebrities Uncensored', 'tt0537895': 'Episode #2.5', 'tt0537875': 'Episode #1.1', 'tt0385435': 'Love Chain', 'tt0636859': 'Tom Cruise', 'tt0383630': 'Sex at 24 Frames Per Second', 'tt0397406': '101 Most Shocking Moments in Entertainment', 'tt1520788': 'The Greatest', 'tt0455242': '200 Greatest Pop Culture Icons', 'tt0799721': 'Sam', 'tt10157896': 'Episode dated 12 January 2003', 'tt0896232': 'Intimate Portrait', 'tt0339205': 'Diane Lane', 'tt0326145': \"Shirtless: Hollywood's Sexiest Men\", 'tt0267189': 'El informal', 'tt0610999': 'Episode dated 24 May 2002', 'tt0488301': 'Histoires de festival', 'tt0279641': 'Who Is Alan Smithee?', 'tt0374653': 'A Few Good Men: From Stage to Screen', 'tt0783346': 'Hollywood Couples', 'tt8264262': 'Tom Cruise & Nicole Kidman', 'tt4624162': 'Interview With the Vampire: In the Shadow of the Vampire', 'tt7087914': 'Metallica: I Disappear', 'tt0320996': 'Twentieth Century Fox: The Blockbuster Years', 'tt1453928': 'Ôsama no buranchi', 'tt4662832': 'Episode #1.245', 'tt0310339': 'Warner Bros. 75th Anniversary: No Guts, No Glory', 'tt0271918': 'The Movie Show', 'tt13745110': 'Episode dated 29 March 1997', 'tt1356069': 'Episode dated 10 February 1995', 'tt0179624': '100 Years at the Movies', 'tt0123338': '60 Minutes', 'tt2620562': '25 Years of 60 Minutes', 'tt0266220': '65th Annual Academy Awards', 'tt5617594': 'Memories of 1970-1991', 'tt5621032': '1990', 'tt0331410': '59th Annual Academy Awards', 'tt0361239': 'Sexy Folies', 'tt9145572': 'Episode dated 17 September 1986', 'tt6696804': 'Kenny Loggins: Danger Zone'}\n",
      "\n",
      "\n",
      "\n"
     ]
    }
   ],
   "source": [
    "for key in acheivements_dct.keys():\n",
    "    \n",
    "    print('Key: ', key)\n",
    "    print(acheivements_dct[key])\n",
    "    print('\\n\\n')"
   ]
  },
  {
   "cell_type": "code",
   "execution_count": null,
   "id": "cc8db4e5",
   "metadata": {},
   "outputs": [],
   "source": []
  }
 ],
 "metadata": {
  "kernelspec": {
   "display_name": "Python 3 (ipykernel)",
   "language": "python",
   "name": "python3"
  },
  "language_info": {
   "codemirror_mode": {
    "name": "ipython",
    "version": 3
   },
   "file_extension": ".py",
   "mimetype": "text/x-python",
   "name": "python",
   "nbconvert_exporter": "python",
   "pygments_lexer": "ipython3",
   "version": "3.9.7"
  }
 },
 "nbformat": 4,
 "nbformat_minor": 5
}
