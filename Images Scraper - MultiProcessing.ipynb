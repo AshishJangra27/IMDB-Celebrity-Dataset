{
  "nbformat": 4,
  "nbformat_minor": 0,
  "metadata": {
    "colab": {
      "name": "Celebrity Images Scraper - MultiProcessing",
      "provenance": []
    },
    "kernelspec": {
      "name": "python3",
      "display_name": "Python 3"
    },
    "language_info": {
      "name": "python"
    }
  },
  "cells": [
    {
      "cell_type": "code",
      "execution_count": 36,
      "metadata": {
        "id": "bJr1AW_vDnWm"
      },
      "outputs": [],
      "source": [
        "import os\n",
        "import requests\n",
        "import pandas as pd\n",
        "from tqdm import tqdm\n",
        "import multiprocessing\n",
        "\n",
        "df = pd.read_csv('celebs.csv')\n",
        "\n",
        "df = df[df['img_link'] != 'https://m.media-amazon.com/images/S/sash/9FayPGLPcrscMjU.png']"
      ]
    },
    {
      "cell_type": "markdown",
      "source": [
        "### Creating Images Folder"
      ],
      "metadata": {
        "id": "0e49ldQoXWRf"
      }
    },
    {
      "cell_type": "code",
      "source": [
        "!mkdir Images"
      ],
      "metadata": {
        "id": "cwPnHV-ZL-fU"
      },
      "execution_count": 3,
      "outputs": []
    },
    {
      "cell_type": "markdown",
      "source": [
        "### Defined Downloader function to download the images"
      ],
      "metadata": {
        "id": "-PSNzefFXZyL"
      }
    },
    {
      "cell_type": "code",
      "source": [
        "def download(start,stop):\n",
        "\n",
        "  for i in tqdm(df.values [start:stop] ):\n",
        "      link = i[-1]\n",
        "      img_path = 'Images/' + i[0] + '.jpg'\n",
        "      \n",
        "      res = requests.get(link)\n",
        "      \n",
        "      fd = open(img_path, 'wb')\n",
        "      fd.write(res.content)\n",
        "      fd.close()"
      ],
      "metadata": {
        "id": "Zmqvgq1NDu3t"
      },
      "execution_count": 34,
      "outputs": []
    },
    {
      "cell_type": "markdown",
      "source": [
        "### Defined processes to download the images in parallel"
      ],
      "metadata": {
        "id": "yXjxhKNTXgC6"
      }
    },
    {
      "cell_type": "code",
      "source": [
        "p1 = multiprocessing.Process(target = download, args = (0,10000))\n",
        "p2 = multiprocessing.Process(target = download, args = (10000,20000))\n",
        "p3 = multiprocessing.Process(target = download, args = (20000,30000))\n",
        "p4 = multiprocessing.Process(target = download, args = (30000,40000))\n",
        "p5 = multiprocessing.Process(target = download, args = (40000,50000))\n",
        "p6 = multiprocessing.Process(target = download, args = (50000,60000))\n",
        "p7 = multiprocessing.Process(target = download, args = (60000,70000))\n",
        "p8 = multiprocessing.Process(target = download, args = (70000,80000))\n",
        "p9 = multiprocessing.Process(target = download, args = (80000,83666))\n",
        "\n",
        "p1.start()\n",
        "p2.start()\n",
        "p3.start()\n",
        "p4.start()\n",
        "p5.start()\n",
        "p6.start()\n",
        "p7.start()\n",
        "p8.start()\n",
        "p9.start()\n",
        "\n",
        "p1.join()\n",
        "p2.join()\n",
        "p3.join()\n",
        "p4.join()\n",
        "p5.join()\n",
        "p6.join()\n",
        "p7.join()\n",
        "p8.join()\n",
        "p9.join()"
      ],
      "metadata": {
        "colab": {
          "base_uri": "https://localhost:8080/"
        },
        "id": "11xPYfL1L_2R",
        "outputId": "675e0de1-ec5c-4da2-d87f-e7c8fd4a75f4"
      },
      "execution_count": 35,
      "outputs": [
        {
          "output_type": "stream",
          "name": "stderr",
          "text": [
            "100%|██████████| 3666/3666 [13:26<00:00,  4.55it/s]\n",
            "100%|██████████| 10000/10000 [21:48<00:00,  7.64it/s]\n",
            "100%|██████████| 10000/10000 [26:23<00:00,  6.32it/s]\n",
            "100%|██████████| 10000/10000 [26:46<00:00,  6.22it/s]\n",
            "100%|██████████| 10000/10000 [28:00<00:00,  5.95it/s]\n",
            "100%|██████████| 10000/10000 [28:13<00:00,  5.90it/s]\n",
            "100%|██████████| 10000/10000 [28:50<00:00,  5.78it/s]\n",
            "100%|██████████| 10000/10000 [33:23<00:00,  4.99it/s]\n",
            "100%|██████████| 10000/10000 [33:33<00:00,  4.97it/s]\n"
          ]
        }
      ]
    },
    {
      "cell_type": "markdown",
      "source": [
        "### Compressing the folder to download easily"
      ],
      "metadata": {
        "id": "q5EgAHJOXlT3"
      }
    },
    {
      "cell_type": "code",
      "source": [
        "from shutil import make_archive\n",
        "\n",
        "make_archive('Images','zip')"
      ],
      "metadata": {
        "id": "vAjBTwTeMSOy"
      },
      "execution_count": 39,
      "outputs": []
    },
    {
      "cell_type": "markdown",
      "source": [
        "#### Adding file_path column"
      ],
      "metadata": {
        "id": "nCsHD8-2YdHI"
      }
    },
    {
      "cell_type": "code",
      "source": [
        "df['file_path'] = 'Images/' + df['id'] + '.jpg'"
      ],
      "metadata": {
        "id": "6la0THhCX3Da"
      },
      "execution_count": 50,
      "outputs": []
    },
    {
      "cell_type": "code",
      "source": [
        "df.head()"
      ],
      "metadata": {
        "colab": {
          "base_uri": "https://localhost:8080/",
          "height": 354
        },
        "id": "ozjJsbbbX3ga",
        "outputId": "9a4a39b0-33ba-4d35-f463-d6e8a5de3252"
      },
      "execution_count": 51,
      "outputs": [
        {
          "output_type": "execute_result",
          "data": {
            "text/plain": [
              "           id                 name     profession known_for_id  \\\n",
              "0   nm0002337      Roger Christian  Set Decorator    tt0076759   \n",
              "3   nm3914730  Gabrielle Rosenberg  Set Decorator   tt15038118   \n",
              "4   nm0896580          Shane Vieau  Set Decorator    tt7740496   \n",
              "10  nm4722060      Zsuzsanna Sipos  Set Decorator    tt1160419   \n",
              "13  nm0354101          Nancy Haigh  Set Decorator    tt7131622   \n",
              "\n",
              "                           known_for  \\\n",
              "0                          Star Wars   \n",
              "3          Blue's Big City Adventure   \n",
              "4                    Nightmare Alley   \n",
              "10                    Dune: Part One   \n",
              "13  Once Upon a Time in... Hollywood   \n",
              "\n",
              "                                             img_link             file_path  \n",
              "0   https://m.media-amazon.com/images/M/MV5BMTYwMD...  Images/nm0002337.jpg  \n",
              "3   https://m.media-amazon.com/images/M/MV5BNGM0MT...  Images/nm3914730.jpg  \n",
              "4   https://m.media-amazon.com/images/M/MV5BMTc4N2...  Images/nm0896580.jpg  \n",
              "10  https://m.media-amazon.com/images/M/MV5BMGFkYz...  Images/nm4722060.jpg  \n",
              "13  https://m.media-amazon.com/images/M/MV5BNDg5YW...  Images/nm0354101.jpg  "
            ],
            "text/html": [
              "\n",
              "  <div id=\"df-72082da0-70d7-43c3-9d6a-6a44a3965aaf\">\n",
              "    <div class=\"colab-df-container\">\n",
              "      <div>\n",
              "<style scoped>\n",
              "    .dataframe tbody tr th:only-of-type {\n",
              "        vertical-align: middle;\n",
              "    }\n",
              "\n",
              "    .dataframe tbody tr th {\n",
              "        vertical-align: top;\n",
              "    }\n",
              "\n",
              "    .dataframe thead th {\n",
              "        text-align: right;\n",
              "    }\n",
              "</style>\n",
              "<table border=\"1\" class=\"dataframe\">\n",
              "  <thead>\n",
              "    <tr style=\"text-align: right;\">\n",
              "      <th></th>\n",
              "      <th>id</th>\n",
              "      <th>name</th>\n",
              "      <th>profession</th>\n",
              "      <th>known_for_id</th>\n",
              "      <th>known_for</th>\n",
              "      <th>img_link</th>\n",
              "      <th>file_path</th>\n",
              "    </tr>\n",
              "  </thead>\n",
              "  <tbody>\n",
              "    <tr>\n",
              "      <th>0</th>\n",
              "      <td>nm0002337</td>\n",
              "      <td>Roger Christian</td>\n",
              "      <td>Set Decorator</td>\n",
              "      <td>tt0076759</td>\n",
              "      <td>Star Wars</td>\n",
              "      <td>https://m.media-amazon.com/images/M/MV5BMTYwMD...</td>\n",
              "      <td>Images/nm0002337.jpg</td>\n",
              "    </tr>\n",
              "    <tr>\n",
              "      <th>3</th>\n",
              "      <td>nm3914730</td>\n",
              "      <td>Gabrielle Rosenberg</td>\n",
              "      <td>Set Decorator</td>\n",
              "      <td>tt15038118</td>\n",
              "      <td>Blue's Big City Adventure</td>\n",
              "      <td>https://m.media-amazon.com/images/M/MV5BNGM0MT...</td>\n",
              "      <td>Images/nm3914730.jpg</td>\n",
              "    </tr>\n",
              "    <tr>\n",
              "      <th>4</th>\n",
              "      <td>nm0896580</td>\n",
              "      <td>Shane Vieau</td>\n",
              "      <td>Set Decorator</td>\n",
              "      <td>tt7740496</td>\n",
              "      <td>Nightmare Alley</td>\n",
              "      <td>https://m.media-amazon.com/images/M/MV5BMTc4N2...</td>\n",
              "      <td>Images/nm0896580.jpg</td>\n",
              "    </tr>\n",
              "    <tr>\n",
              "      <th>10</th>\n",
              "      <td>nm4722060</td>\n",
              "      <td>Zsuzsanna Sipos</td>\n",
              "      <td>Set Decorator</td>\n",
              "      <td>tt1160419</td>\n",
              "      <td>Dune: Part One</td>\n",
              "      <td>https://m.media-amazon.com/images/M/MV5BMGFkYz...</td>\n",
              "      <td>Images/nm4722060.jpg</td>\n",
              "    </tr>\n",
              "    <tr>\n",
              "      <th>13</th>\n",
              "      <td>nm0354101</td>\n",
              "      <td>Nancy Haigh</td>\n",
              "      <td>Set Decorator</td>\n",
              "      <td>tt7131622</td>\n",
              "      <td>Once Upon a Time in... Hollywood</td>\n",
              "      <td>https://m.media-amazon.com/images/M/MV5BNDg5YW...</td>\n",
              "      <td>Images/nm0354101.jpg</td>\n",
              "    </tr>\n",
              "  </tbody>\n",
              "</table>\n",
              "</div>\n",
              "      <button class=\"colab-df-convert\" onclick=\"convertToInteractive('df-72082da0-70d7-43c3-9d6a-6a44a3965aaf')\"\n",
              "              title=\"Convert this dataframe to an interactive table.\"\n",
              "              style=\"display:none;\">\n",
              "        \n",
              "  <svg xmlns=\"http://www.w3.org/2000/svg\" height=\"24px\"viewBox=\"0 0 24 24\"\n",
              "       width=\"24px\">\n",
              "    <path d=\"M0 0h24v24H0V0z\" fill=\"none\"/>\n",
              "    <path d=\"M18.56 5.44l.94 2.06.94-2.06 2.06-.94-2.06-.94-.94-2.06-.94 2.06-2.06.94zm-11 1L8.5 8.5l.94-2.06 2.06-.94-2.06-.94L8.5 2.5l-.94 2.06-2.06.94zm10 10l.94 2.06.94-2.06 2.06-.94-2.06-.94-.94-2.06-.94 2.06-2.06.94z\"/><path d=\"M17.41 7.96l-1.37-1.37c-.4-.4-.92-.59-1.43-.59-.52 0-1.04.2-1.43.59L10.3 9.45l-7.72 7.72c-.78.78-.78 2.05 0 2.83L4 21.41c.39.39.9.59 1.41.59.51 0 1.02-.2 1.41-.59l7.78-7.78 2.81-2.81c.8-.78.8-2.07 0-2.86zM5.41 20L4 18.59l7.72-7.72 1.47 1.35L5.41 20z\"/>\n",
              "  </svg>\n",
              "      </button>\n",
              "      \n",
              "  <style>\n",
              "    .colab-df-container {\n",
              "      display:flex;\n",
              "      flex-wrap:wrap;\n",
              "      gap: 12px;\n",
              "    }\n",
              "\n",
              "    .colab-df-convert {\n",
              "      background-color: #E8F0FE;\n",
              "      border: none;\n",
              "      border-radius: 50%;\n",
              "      cursor: pointer;\n",
              "      display: none;\n",
              "      fill: #1967D2;\n",
              "      height: 32px;\n",
              "      padding: 0 0 0 0;\n",
              "      width: 32px;\n",
              "    }\n",
              "\n",
              "    .colab-df-convert:hover {\n",
              "      background-color: #E2EBFA;\n",
              "      box-shadow: 0px 1px 2px rgba(60, 64, 67, 0.3), 0px 1px 3px 1px rgba(60, 64, 67, 0.15);\n",
              "      fill: #174EA6;\n",
              "    }\n",
              "\n",
              "    [theme=dark] .colab-df-convert {\n",
              "      background-color: #3B4455;\n",
              "      fill: #D2E3FC;\n",
              "    }\n",
              "\n",
              "    [theme=dark] .colab-df-convert:hover {\n",
              "      background-color: #434B5C;\n",
              "      box-shadow: 0px 1px 3px 1px rgba(0, 0, 0, 0.15);\n",
              "      filter: drop-shadow(0px 1px 2px rgba(0, 0, 0, 0.3));\n",
              "      fill: #FFFFFF;\n",
              "    }\n",
              "  </style>\n",
              "\n",
              "      <script>\n",
              "        const buttonEl =\n",
              "          document.querySelector('#df-72082da0-70d7-43c3-9d6a-6a44a3965aaf button.colab-df-convert');\n",
              "        buttonEl.style.display =\n",
              "          google.colab.kernel.accessAllowed ? 'block' : 'none';\n",
              "\n",
              "        async function convertToInteractive(key) {\n",
              "          const element = document.querySelector('#df-72082da0-70d7-43c3-9d6a-6a44a3965aaf');\n",
              "          const dataTable =\n",
              "            await google.colab.kernel.invokeFunction('convertToInteractive',\n",
              "                                                     [key], {});\n",
              "          if (!dataTable) return;\n",
              "\n",
              "          const docLinkHtml = 'Like what you see? Visit the ' +\n",
              "            '<a target=\"_blank\" href=https://colab.research.google.com/notebooks/data_table.ipynb>data table notebook</a>'\n",
              "            + ' to learn more about interactive tables.';\n",
              "          element.innerHTML = '';\n",
              "          dataTable['output_type'] = 'display_data';\n",
              "          await google.colab.output.renderOutput(dataTable, element);\n",
              "          const docLink = document.createElement('div');\n",
              "          docLink.innerHTML = docLinkHtml;\n",
              "          element.appendChild(docLink);\n",
              "        }\n",
              "      </script>\n",
              "    </div>\n",
              "  </div>\n",
              "  "
            ]
          },
          "metadata": {},
          "execution_count": 51
        }
      ]
    },
    {
      "cell_type": "code",
      "source": [
        "del df['img_link']\n",
        "del df['id']\n",
        "del df['known_for_id']\n",
        "\n",
        "df.head()"
      ],
      "metadata": {
        "colab": {
          "base_uri": "https://localhost:8080/",
          "height": 206
        },
        "id": "Bb7pSVSKZYji",
        "outputId": "1fbf8c81-cb23-4d89-bb26-37aaaf345b44"
      },
      "execution_count": 53,
      "outputs": [
        {
          "output_type": "execute_result",
          "data": {
            "text/plain": [
              "                   name     profession known_for_id             file_path\n",
              "0       Roger Christian  Set Decorator    tt0076759  Images/nm0002337.jpg\n",
              "3   Gabrielle Rosenberg  Set Decorator   tt15038118  Images/nm3914730.jpg\n",
              "4           Shane Vieau  Set Decorator    tt7740496  Images/nm0896580.jpg\n",
              "10      Zsuzsanna Sipos  Set Decorator    tt1160419  Images/nm4722060.jpg\n",
              "13          Nancy Haigh  Set Decorator    tt7131622  Images/nm0354101.jpg"
            ],
            "text/html": [
              "\n",
              "  <div id=\"df-37d7f42e-dec8-41b0-a5ad-aee2616a516c\">\n",
              "    <div class=\"colab-df-container\">\n",
              "      <div>\n",
              "<style scoped>\n",
              "    .dataframe tbody tr th:only-of-type {\n",
              "        vertical-align: middle;\n",
              "    }\n",
              "\n",
              "    .dataframe tbody tr th {\n",
              "        vertical-align: top;\n",
              "    }\n",
              "\n",
              "    .dataframe thead th {\n",
              "        text-align: right;\n",
              "    }\n",
              "</style>\n",
              "<table border=\"1\" class=\"dataframe\">\n",
              "  <thead>\n",
              "    <tr style=\"text-align: right;\">\n",
              "      <th></th>\n",
              "      <th>name</th>\n",
              "      <th>profession</th>\n",
              "      <th>known_for_id</th>\n",
              "      <th>file_path</th>\n",
              "    </tr>\n",
              "  </thead>\n",
              "  <tbody>\n",
              "    <tr>\n",
              "      <th>0</th>\n",
              "      <td>Roger Christian</td>\n",
              "      <td>Set Decorator</td>\n",
              "      <td>tt0076759</td>\n",
              "      <td>Images/nm0002337.jpg</td>\n",
              "    </tr>\n",
              "    <tr>\n",
              "      <th>3</th>\n",
              "      <td>Gabrielle Rosenberg</td>\n",
              "      <td>Set Decorator</td>\n",
              "      <td>tt15038118</td>\n",
              "      <td>Images/nm3914730.jpg</td>\n",
              "    </tr>\n",
              "    <tr>\n",
              "      <th>4</th>\n",
              "      <td>Shane Vieau</td>\n",
              "      <td>Set Decorator</td>\n",
              "      <td>tt7740496</td>\n",
              "      <td>Images/nm0896580.jpg</td>\n",
              "    </tr>\n",
              "    <tr>\n",
              "      <th>10</th>\n",
              "      <td>Zsuzsanna Sipos</td>\n",
              "      <td>Set Decorator</td>\n",
              "      <td>tt1160419</td>\n",
              "      <td>Images/nm4722060.jpg</td>\n",
              "    </tr>\n",
              "    <tr>\n",
              "      <th>13</th>\n",
              "      <td>Nancy Haigh</td>\n",
              "      <td>Set Decorator</td>\n",
              "      <td>tt7131622</td>\n",
              "      <td>Images/nm0354101.jpg</td>\n",
              "    </tr>\n",
              "  </tbody>\n",
              "</table>\n",
              "</div>\n",
              "      <button class=\"colab-df-convert\" onclick=\"convertToInteractive('df-37d7f42e-dec8-41b0-a5ad-aee2616a516c')\"\n",
              "              title=\"Convert this dataframe to an interactive table.\"\n",
              "              style=\"display:none;\">\n",
              "        \n",
              "  <svg xmlns=\"http://www.w3.org/2000/svg\" height=\"24px\"viewBox=\"0 0 24 24\"\n",
              "       width=\"24px\">\n",
              "    <path d=\"M0 0h24v24H0V0z\" fill=\"none\"/>\n",
              "    <path d=\"M18.56 5.44l.94 2.06.94-2.06 2.06-.94-2.06-.94-.94-2.06-.94 2.06-2.06.94zm-11 1L8.5 8.5l.94-2.06 2.06-.94-2.06-.94L8.5 2.5l-.94 2.06-2.06.94zm10 10l.94 2.06.94-2.06 2.06-.94-2.06-.94-.94-2.06-.94 2.06-2.06.94z\"/><path d=\"M17.41 7.96l-1.37-1.37c-.4-.4-.92-.59-1.43-.59-.52 0-1.04.2-1.43.59L10.3 9.45l-7.72 7.72c-.78.78-.78 2.05 0 2.83L4 21.41c.39.39.9.59 1.41.59.51 0 1.02-.2 1.41-.59l7.78-7.78 2.81-2.81c.8-.78.8-2.07 0-2.86zM5.41 20L4 18.59l7.72-7.72 1.47 1.35L5.41 20z\"/>\n",
              "  </svg>\n",
              "      </button>\n",
              "      \n",
              "  <style>\n",
              "    .colab-df-container {\n",
              "      display:flex;\n",
              "      flex-wrap:wrap;\n",
              "      gap: 12px;\n",
              "    }\n",
              "\n",
              "    .colab-df-convert {\n",
              "      background-color: #E8F0FE;\n",
              "      border: none;\n",
              "      border-radius: 50%;\n",
              "      cursor: pointer;\n",
              "      display: none;\n",
              "      fill: #1967D2;\n",
              "      height: 32px;\n",
              "      padding: 0 0 0 0;\n",
              "      width: 32px;\n",
              "    }\n",
              "\n",
              "    .colab-df-convert:hover {\n",
              "      background-color: #E2EBFA;\n",
              "      box-shadow: 0px 1px 2px rgba(60, 64, 67, 0.3), 0px 1px 3px 1px rgba(60, 64, 67, 0.15);\n",
              "      fill: #174EA6;\n",
              "    }\n",
              "\n",
              "    [theme=dark] .colab-df-convert {\n",
              "      background-color: #3B4455;\n",
              "      fill: #D2E3FC;\n",
              "    }\n",
              "\n",
              "    [theme=dark] .colab-df-convert:hover {\n",
              "      background-color: #434B5C;\n",
              "      box-shadow: 0px 1px 3px 1px rgba(0, 0, 0, 0.15);\n",
              "      filter: drop-shadow(0px 1px 2px rgba(0, 0, 0, 0.3));\n",
              "      fill: #FFFFFF;\n",
              "    }\n",
              "  </style>\n",
              "\n",
              "      <script>\n",
              "        const buttonEl =\n",
              "          document.querySelector('#df-37d7f42e-dec8-41b0-a5ad-aee2616a516c button.colab-df-convert');\n",
              "        buttonEl.style.display =\n",
              "          google.colab.kernel.accessAllowed ? 'block' : 'none';\n",
              "\n",
              "        async function convertToInteractive(key) {\n",
              "          const element = document.querySelector('#df-37d7f42e-dec8-41b0-a5ad-aee2616a516c');\n",
              "          const dataTable =\n",
              "            await google.colab.kernel.invokeFunction('convertToInteractive',\n",
              "                                                     [key], {});\n",
              "          if (!dataTable) return;\n",
              "\n",
              "          const docLinkHtml = 'Like what you see? Visit the ' +\n",
              "            '<a target=\"_blank\" href=https://colab.research.google.com/notebooks/data_table.ipynb>data table notebook</a>'\n",
              "            + ' to learn more about interactive tables.';\n",
              "          element.innerHTML = '';\n",
              "          dataTable['output_type'] = 'display_data';\n",
              "          await google.colab.output.renderOutput(dataTable, element);\n",
              "          const docLink = document.createElement('div');\n",
              "          docLink.innerHTML = docLinkHtml;\n",
              "          element.appendChild(docLink);\n",
              "        }\n",
              "      </script>\n",
              "    </div>\n",
              "  </div>\n",
              "  "
            ]
          },
          "metadata": {},
          "execution_count": 53
        }
      ]
    },
    {
      "cell_type": "code",
      "source": [
        "df.to_csv('celebs.csv', index = False)"
      ],
      "metadata": {
        "id": "kQCQ-BtTYUvE"
      },
      "execution_count": 52,
      "outputs": []
    }
  ]
}