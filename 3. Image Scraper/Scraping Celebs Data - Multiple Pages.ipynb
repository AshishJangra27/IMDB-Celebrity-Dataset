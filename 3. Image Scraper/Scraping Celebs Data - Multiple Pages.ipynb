{
 "cells": [
  {
   "cell_type": "code",
   "execution_count": 46,
   "id": "3c8aa93b",
   "metadata": {},
   "outputs": [],
   "source": [
    "import requests\n",
    "import numpy as np\n",
    "import pandas as pd\n",
    "from tqdm import tqdm\n",
    "from bs4 import BeautifulSoup"
   ]
  },
  {
   "cell_type": "markdown",
   "id": "56b930f7",
   "metadata": {},
   "source": [
    "### 1. Sending Request to First Page"
   ]
  },
  {
   "cell_type": "code",
   "execution_count": 47,
   "id": "47c5d1c0",
   "metadata": {},
   "outputs": [],
   "source": [
    "data = []\n",
    "\n",
    "link = 'https://www.imdb.com/search/name/?match_all=true'"
   ]
  },
  {
   "cell_type": "markdown",
   "id": "b842e468",
   "metadata": {},
   "source": [
    "### 2. Sending Request to all pages"
   ]
  },
  {
   "cell_type": "code",
   "execution_count": 48,
   "id": "d6f2bee9",
   "metadata": {},
   "outputs": [
    {
     "name": "stderr",
     "output_type": "stream",
     "text": [
      "100%|█████████████████████████████████████| 2000/2000 [1:55:37<00:00,  3.47s/it]\n"
     ]
    }
   ],
   "source": [
    "for pages in tqdm(range(2000)):\n",
    "    \n",
    "    soup = BeautifulSoup(requests.get(link).content, 'html.parser')\n",
    "\n",
    "    for celeb in soup.find('div', class_ = 'lister-list').find_all('div', class_ = 'lister-item mode-detail'):\n",
    "        \n",
    "        try:\n",
    "            id_        = celeb.find('a').get('href').split('/')[-1].strip()\n",
    "        except:\n",
    "            id_        = np.nan\n",
    "           \n",
    "        try:\n",
    "            name       = celeb.find('h3').find('a').text.strip()\n",
    "        except:\n",
    "            name       = np.nan\n",
    "            \n",
    "        try:\n",
    "            img_link   = celeb.find('img').get('src').strip()\n",
    "        except:\n",
    "            img_link   = np.nan\n",
    "        \n",
    "        try:\n",
    "            profession = celeb.find('p').text.strip().split('|')[0].strip()\n",
    "        except:\n",
    "            profession = np.nan\n",
    "            \n",
    "        try:\n",
    "            exp        = celeb.find('p').find('a').text\n",
    "            exp_id     = celeb.find('p').find('a').get('href').split('/')[-2]\n",
    "        except:\n",
    "            exp        = np.nan\n",
    "            exp_id     = np.nan\n",
    "    \n",
    "        data.append([id_, name , profession, exp_id, exp, img_link])\n",
    "\n",
    "    link = 'https://www.imdb.com' + soup.find('a', class_ = 'lister-page-next next-page').get('href')"
   ]
  },
  {
   "cell_type": "markdown",
   "id": "8488682b",
   "metadata": {},
   "source": [
    "### 3. Saving the Dataset"
   ]
  },
  {
   "cell_type": "code",
   "execution_count": 81,
   "id": "97a5d4dd",
   "metadata": {},
   "outputs": [],
   "source": [
    "df = pd.DataFrame(data, columns = ['id','name','profession','known_for_id','known_for', 'img_link'])\n",
    "\n",
    "df.to_csv('celebs.csv', index = False)"
   ]
  },
  {
   "cell_type": "markdown",
   "id": "4ca97956",
   "metadata": {},
   "source": [
    "### 4. Dataset Walkthrough"
   ]
  },
  {
   "cell_type": "code",
   "execution_count": 82,
   "id": "4f98e373",
   "metadata": {
    "scrolled": true
   },
   "outputs": [
    {
     "data": {
      "text/html": [
       "<div>\n",
       "<style scoped>\n",
       "    .dataframe tbody tr th:only-of-type {\n",
       "        vertical-align: middle;\n",
       "    }\n",
       "\n",
       "    .dataframe tbody tr th {\n",
       "        vertical-align: top;\n",
       "    }\n",
       "\n",
       "    .dataframe thead th {\n",
       "        text-align: right;\n",
       "    }\n",
       "</style>\n",
       "<table border=\"1\" class=\"dataframe\">\n",
       "  <thead>\n",
       "    <tr style=\"text-align: right;\">\n",
       "      <th></th>\n",
       "      <th>id</th>\n",
       "      <th>name</th>\n",
       "      <th>profession</th>\n",
       "      <th>known_for_id</th>\n",
       "      <th>known_for</th>\n",
       "      <th>img_link</th>\n",
       "    </tr>\n",
       "  </thead>\n",
       "  <tbody>\n",
       "    <tr>\n",
       "      <th>0</th>\n",
       "      <td>nm2581521</td>\n",
       "      <td>Austin Butler</td>\n",
       "      <td>Actor</td>\n",
       "      <td>tt3704428</td>\n",
       "      <td>Elvis\\n</td>\n",
       "      <td>https://m.media-amazon.com/images/M/MV5BYzE2Yj...</td>\n",
       "    </tr>\n",
       "    <tr>\n",
       "      <th>1</th>\n",
       "      <td>nm1886602</td>\n",
       "      <td>Miles Teller</td>\n",
       "      <td>Actor</td>\n",
       "      <td>tt1714206</td>\n",
       "      <td>The Spectacular Now\\n</td>\n",
       "      <td>https://m.media-amazon.com/images/M/MV5BMTY2Mz...</td>\n",
       "    </tr>\n",
       "    <tr>\n",
       "      <th>2</th>\n",
       "      <td>nm5611121</td>\n",
       "      <td>Millie Bobby Brown</td>\n",
       "      <td>Actress</td>\n",
       "      <td>tt7846844</td>\n",
       "      <td>Enola Holmes\\n</td>\n",
       "      <td>https://m.media-amazon.com/images/M/MV5BMjA5Nz...</td>\n",
       "    </tr>\n",
       "    <tr>\n",
       "      <th>3</th>\n",
       "      <td>nm1869101</td>\n",
       "      <td>Ana de Armas</td>\n",
       "      <td>Actress</td>\n",
       "      <td>tt1856101</td>\n",
       "      <td>Blade Runner 2049\\n</td>\n",
       "      <td>https://m.media-amazon.com/images/M/MV5BMWM3MD...</td>\n",
       "    </tr>\n",
       "    <tr>\n",
       "      <th>4</th>\n",
       "      <td>nm1270009</td>\n",
       "      <td>Genesis Rodriguez</td>\n",
       "      <td>Actress</td>\n",
       "      <td>tt2245084</td>\n",
       "      <td>Big Hero 6\\n</td>\n",
       "      <td>https://m.media-amazon.com/images/M/MV5BMzBjNz...</td>\n",
       "    </tr>\n",
       "  </tbody>\n",
       "</table>\n",
       "</div>"
      ],
      "text/plain": [
       "          id                name profession known_for_id  \\\n",
       "0  nm2581521       Austin Butler      Actor    tt3704428   \n",
       "1  nm1886602        Miles Teller      Actor    tt1714206   \n",
       "2  nm5611121  Millie Bobby Brown    Actress    tt7846844   \n",
       "3  nm1869101        Ana de Armas    Actress    tt1856101   \n",
       "4  nm1270009   Genesis Rodriguez    Actress    tt2245084   \n",
       "\n",
       "                known_for                                           img_link  \n",
       "0                 Elvis\\n  https://m.media-amazon.com/images/M/MV5BYzE2Yj...  \n",
       "1   The Spectacular Now\\n  https://m.media-amazon.com/images/M/MV5BMTY2Mz...  \n",
       "2          Enola Holmes\\n  https://m.media-amazon.com/images/M/MV5BMjA5Nz...  \n",
       "3     Blade Runner 2049\\n  https://m.media-amazon.com/images/M/MV5BMWM3MD...  \n",
       "4            Big Hero 6\\n  https://m.media-amazon.com/images/M/MV5BMzBjNz...  "
      ]
     },
     "execution_count": 82,
     "metadata": {},
     "output_type": "execute_result"
    }
   ],
   "source": [
    "df.head()"
   ]
  },
  {
   "cell_type": "markdown",
   "id": "ab668a8d",
   "metadata": {},
   "source": [
    "##### 4.1 Preprocessing known_for Column"
   ]
  },
  {
   "cell_type": "code",
   "execution_count": 86,
   "id": "a2726845",
   "metadata": {},
   "outputs": [
    {
     "data": {
      "text/html": [
       "<div>\n",
       "<style scoped>\n",
       "    .dataframe tbody tr th:only-of-type {\n",
       "        vertical-align: middle;\n",
       "    }\n",
       "\n",
       "    .dataframe tbody tr th {\n",
       "        vertical-align: top;\n",
       "    }\n",
       "\n",
       "    .dataframe thead th {\n",
       "        text-align: right;\n",
       "    }\n",
       "</style>\n",
       "<table border=\"1\" class=\"dataframe\">\n",
       "  <thead>\n",
       "    <tr style=\"text-align: right;\">\n",
       "      <th></th>\n",
       "      <th>id</th>\n",
       "      <th>name</th>\n",
       "      <th>profession</th>\n",
       "      <th>known_for_id</th>\n",
       "      <th>known_for</th>\n",
       "      <th>img_link</th>\n",
       "    </tr>\n",
       "  </thead>\n",
       "  <tbody>\n",
       "    <tr>\n",
       "      <th>0</th>\n",
       "      <td>nm2581521</td>\n",
       "      <td>Austin Butler</td>\n",
       "      <td>Actor</td>\n",
       "      <td>tt3704428</td>\n",
       "      <td>Elvis</td>\n",
       "      <td>https://m.media-amazon.com/images/M/MV5BYzE2Yj...</td>\n",
       "    </tr>\n",
       "    <tr>\n",
       "      <th>1</th>\n",
       "      <td>nm1886602</td>\n",
       "      <td>Miles Teller</td>\n",
       "      <td>Actor</td>\n",
       "      <td>tt1714206</td>\n",
       "      <td>The Spectacular Now</td>\n",
       "      <td>https://m.media-amazon.com/images/M/MV5BMTY2Mz...</td>\n",
       "    </tr>\n",
       "    <tr>\n",
       "      <th>2</th>\n",
       "      <td>nm5611121</td>\n",
       "      <td>Millie Bobby Brown</td>\n",
       "      <td>Actress</td>\n",
       "      <td>tt7846844</td>\n",
       "      <td>Enola Holmes</td>\n",
       "      <td>https://m.media-amazon.com/images/M/MV5BMjA5Nz...</td>\n",
       "    </tr>\n",
       "    <tr>\n",
       "      <th>3</th>\n",
       "      <td>nm1869101</td>\n",
       "      <td>Ana de Armas</td>\n",
       "      <td>Actress</td>\n",
       "      <td>tt1856101</td>\n",
       "      <td>Blade Runner 2049</td>\n",
       "      <td>https://m.media-amazon.com/images/M/MV5BMWM3MD...</td>\n",
       "    </tr>\n",
       "    <tr>\n",
       "      <th>4</th>\n",
       "      <td>nm1270009</td>\n",
       "      <td>Genesis Rodriguez</td>\n",
       "      <td>Actress</td>\n",
       "      <td>tt2245084</td>\n",
       "      <td>Big Hero 6</td>\n",
       "      <td>https://m.media-amazon.com/images/M/MV5BMzBjNz...</td>\n",
       "    </tr>\n",
       "  </tbody>\n",
       "</table>\n",
       "</div>"
      ],
      "text/plain": [
       "          id                name profession known_for_id            known_for  \\\n",
       "0  nm2581521       Austin Butler      Actor    tt3704428                Elvis   \n",
       "1  nm1886602        Miles Teller      Actor    tt1714206  The Spectacular Now   \n",
       "2  nm5611121  Millie Bobby Brown    Actress    tt7846844         Enola Holmes   \n",
       "3  nm1869101        Ana de Armas    Actress    tt1856101    Blade Runner 2049   \n",
       "4  nm1270009   Genesis Rodriguez    Actress    tt2245084           Big Hero 6   \n",
       "\n",
       "                                            img_link  \n",
       "0  https://m.media-amazon.com/images/M/MV5BYzE2Yj...  \n",
       "1  https://m.media-amazon.com/images/M/MV5BMTY2Mz...  \n",
       "2  https://m.media-amazon.com/images/M/MV5BMjA5Nz...  \n",
       "3  https://m.media-amazon.com/images/M/MV5BMWM3MD...  \n",
       "4  https://m.media-amazon.com/images/M/MV5BMzBjNz...  "
      ]
     },
     "execution_count": 86,
     "metadata": {},
     "output_type": "execute_result"
    }
   ],
   "source": [
    "df['known_for'] = df['known_for'].fillna('None')    # Fill None in the place of None\n",
    "\n",
    "\n",
    "known_for = []\n",
    "\n",
    "for i in df['known_for']:\n",
    "    \n",
    "    try:\n",
    "        known_for.append(i.split('\\n')[0].strip())\n",
    "    \n",
    "df['known_for'] = known_for\n",
    "\n",
    "df.head()"
   ]
  },
  {
   "cell_type": "markdown",
   "id": "f124b0c5",
   "metadata": {},
   "source": [
    "##### 4.2 Dealing with Null Values of know_for_id Column"
   ]
  },
  {
   "cell_type": "code",
   "execution_count": 92,
   "id": "82730094",
   "metadata": {},
   "outputs": [],
   "source": [
    "df['known_for_id'] = df['known_for_id'].fillna('None')"
   ]
  },
  {
   "cell_type": "code",
   "execution_count": 93,
   "id": "cbfcbc7e",
   "metadata": {
    "scrolled": true
   },
   "outputs": [
    {
     "data": {
      "text/plain": [
       "id                0\n",
       "name              0\n",
       "profession      269\n",
       "known_for_id      0\n",
       "known_for         0\n",
       "img_link          0\n",
       "dtype: int64"
      ]
     },
     "execution_count": 93,
     "metadata": {},
     "output_type": "execute_result"
    }
   ],
   "source": [
    "df.isnull().sum()"
   ]
  },
  {
   "cell_type": "markdown",
   "id": "daf057c4",
   "metadata": {},
   "source": [
    "##### 4.3 Dealing with Null values for profession Column"
   ]
  },
  {
   "cell_type": "code",
   "execution_count": 95,
   "id": "a4c7a50e",
   "metadata": {},
   "outputs": [
    {
     "data": {
      "text/plain": [
       "id              0\n",
       "name            0\n",
       "profession      0\n",
       "known_for_id    0\n",
       "known_for       0\n",
       "img_link        0\n",
       "dtype: int64"
      ]
     },
     "execution_count": 95,
     "metadata": {},
     "output_type": "execute_result"
    }
   ],
   "source": [
    "df['profession'] = df['profession'].fillna('None')\n",
    "\n",
    "df.isnull().sum()"
   ]
  },
  {
   "cell_type": "markdown",
   "id": "26614f1d",
   "metadata": {},
   "source": [
    "##### 4.4 Finding Correct Professions"
   ]
  },
  {
   "cell_type": "code",
   "execution_count": 129,
   "id": "80e250a1",
   "metadata": {},
   "outputs": [],
   "source": [
    "lst = []\n",
    "\n",
    "for profession in df['profession'].unique():\n",
    "    lst.append([profession, len(df[df['profession'] == profession])])\n",
    "    \n",
    "df_ = pd.DataFrame(lst, columns = ['profession','freq'])\n",
    "\n",
    "main_professions = df_.sort_values(by = 'freq', ascending = False).head(33)['profession'].values"
   ]
  },
  {
   "cell_type": "markdown",
   "id": "092ace18",
   "metadata": {},
   "source": [
    "##### 4.5 Remove the data where profession is not mentioned"
   ]
  },
  {
   "cell_type": "code",
   "execution_count": 145,
   "id": "0caa3760",
   "metadata": {},
   "outputs": [
    {
     "data": {
      "text/html": [
       "<div>\n",
       "<style scoped>\n",
       "    .dataframe tbody tr th:only-of-type {\n",
       "        vertical-align: middle;\n",
       "    }\n",
       "\n",
       "    .dataframe tbody tr th {\n",
       "        vertical-align: top;\n",
       "    }\n",
       "\n",
       "    .dataframe thead th {\n",
       "        text-align: right;\n",
       "    }\n",
       "</style>\n",
       "<table border=\"1\" class=\"dataframe\">\n",
       "  <thead>\n",
       "    <tr style=\"text-align: right;\">\n",
       "      <th></th>\n",
       "      <th>id</th>\n",
       "      <th>name</th>\n",
       "      <th>profession</th>\n",
       "      <th>known_for_id</th>\n",
       "      <th>known_for</th>\n",
       "      <th>img_link</th>\n",
       "    </tr>\n",
       "  </thead>\n",
       "  <tbody>\n",
       "    <tr>\n",
       "      <th>25393</th>\n",
       "      <td>nm0002337</td>\n",
       "      <td>Roger Christian</td>\n",
       "      <td>Set Decorator</td>\n",
       "      <td>tt0076759</td>\n",
       "      <td>Star Wars</td>\n",
       "      <td>https://m.media-amazon.com/images/M/MV5BMTYwMD...</td>\n",
       "    </tr>\n",
       "    <tr>\n",
       "      <th>41913</th>\n",
       "      <td>nm0089193</td>\n",
       "      <td>Leslie Bloom</td>\n",
       "      <td>Set Decorator</td>\n",
       "      <td>tt0093818</td>\n",
       "      <td>Radio Days</td>\n",
       "      <td>https://m.media-amazon.com/images/S/sash/9FayP...</td>\n",
       "    </tr>\n",
       "    <tr>\n",
       "      <th>46864</th>\n",
       "      <td>nm0816542</td>\n",
       "      <td>Victoria Spader</td>\n",
       "      <td>Set Decorator</td>\n",
       "      <td>tt0098724</td>\n",
       "      <td>Sex, Lies, and Videotape</td>\n",
       "      <td>https://m.media-amazon.com/images/S/sash/9FayP...</td>\n",
       "    </tr>\n",
       "    <tr>\n",
       "      <th>60972</th>\n",
       "      <td>nm3914730</td>\n",
       "      <td>Gabrielle Rosenberg</td>\n",
       "      <td>Set Decorator</td>\n",
       "      <td>tt15038118</td>\n",
       "      <td>Blue's Big City Adventure</td>\n",
       "      <td>https://m.media-amazon.com/images/M/MV5BNGM0MT...</td>\n",
       "    </tr>\n",
       "    <tr>\n",
       "      <th>76297</th>\n",
       "      <td>nm0896580</td>\n",
       "      <td>Shane Vieau</td>\n",
       "      <td>Set Decorator</td>\n",
       "      <td>tt7740496</td>\n",
       "      <td>Nightmare Alley</td>\n",
       "      <td>https://m.media-amazon.com/images/M/MV5BMTc4N2...</td>\n",
       "    </tr>\n",
       "  </tbody>\n",
       "</table>\n",
       "</div>"
      ],
      "text/plain": [
       "              id                 name     profession known_for_id  \\\n",
       "25393  nm0002337      Roger Christian  Set Decorator    tt0076759   \n",
       "41913  nm0089193         Leslie Bloom  Set Decorator    tt0093818   \n",
       "46864  nm0816542      Victoria Spader  Set Decorator    tt0098724   \n",
       "60972  nm3914730  Gabrielle Rosenberg  Set Decorator   tt15038118   \n",
       "76297  nm0896580          Shane Vieau  Set Decorator    tt7740496   \n",
       "\n",
       "                       known_for  \\\n",
       "25393                  Star Wars   \n",
       "41913                 Radio Days   \n",
       "46864   Sex, Lies, and Videotape   \n",
       "60972  Blue's Big City Adventure   \n",
       "76297            Nightmare Alley   \n",
       "\n",
       "                                                img_link  \n",
       "25393  https://m.media-amazon.com/images/M/MV5BMTYwMD...  \n",
       "41913  https://m.media-amazon.com/images/S/sash/9FayP...  \n",
       "46864  https://m.media-amazon.com/images/S/sash/9FayP...  \n",
       "60972  https://m.media-amazon.com/images/M/MV5BNGM0MT...  \n",
       "76297  https://m.media-amazon.com/images/M/MV5BMTc4N2...  "
      ]
     },
     "execution_count": 145,
     "metadata": {},
     "output_type": "execute_result"
    }
   ],
   "source": [
    "final_df = pd.DataFrame()\n",
    "\n",
    "for profession in main_professions:    \n",
    "    final_df = pd.concat((df[df['profession'] == profession], final_df))\n",
    "    \n",
    "    \n",
    "final_df.head()"
   ]
  },
  {
   "cell_type": "code",
   "execution_count": 148,
   "id": "cdfeded2",
   "metadata": {},
   "outputs": [],
   "source": [
    "final_df.to_csv('celebs.csv', index = False)"
   ]
  }
 ],
 "metadata": {
  "kernelspec": {
   "display_name": "Python 3 (ipykernel)",
   "language": "python",
   "name": "python3"
  },
  "language_info": {
   "codemirror_mode": {
    "name": "ipython",
    "version": 3
   },
   "file_extension": ".py",
   "mimetype": "text/x-python",
   "name": "python",
   "nbconvert_exporter": "python",
   "pygments_lexer": "ipython3",
   "version": "3.9.7"
  }
 },
 "nbformat": 4,
 "nbformat_minor": 5
}
